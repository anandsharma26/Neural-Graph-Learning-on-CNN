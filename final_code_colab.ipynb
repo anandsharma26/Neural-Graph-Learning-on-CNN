{
 "cells": [
  {
   "cell_type": "code",
   "execution_count": 0,
   "metadata": {
    "colab": {
     "base_uri": "https://localhost:8080/",
     "height": 34
    },
    "colab_type": "code",
    "id": "Gc_e8Os2tUuD",
    "outputId": "d0184ff6-a20f-49de-d7e7-ed67846a436b"
   },
   "outputs": [
    {
     "name": "stdout",
     "output_type": "stream",
     "text": [
      "Found GPU at: /device:GPU:0\n"
     ]
    }
   ],
   "source": [
    "%tensorflow_version 2.x\n",
    "import tensorflow as tf\n",
    "device_name = tf.test.gpu_device_name()\n",
    "if device_name != '/device:GPU:0':\n",
    "  raise SystemError('GPU device not found')\n",
    "print('Found GPU at: {}'.format(device_name))"
   ]
  },
  {
   "cell_type": "code",
   "execution_count": 0,
   "metadata": {
    "colab": {
     "base_uri": "https://localhost:8080/",
     "height": 459
    },
    "colab_type": "code",
    "id": "MLFmosD3ytrF",
    "outputId": "2ec8c67d-5420-4605-9776-df1eb4cc6549"
   },
   "outputs": [
    {
     "name": "stdout",
     "output_type": "stream",
     "text": [
      "Uninstalling opencv-python-4.1.2.30:\n",
      "  Successfully uninstalled opencv-python-4.1.2.30\n",
      "Collecting opencv-contrib-python==3.4.2.17\n",
      "\u001b[?25l  Downloading https://files.pythonhosted.org/packages/61/29/fc60b2de1713aa92946992544329f20ccb5e4ba26290f403e04b7da44105/opencv_contrib_python-3.4.2.17-cp36-cp36m-manylinux1_x86_64.whl (30.6MB)\n",
      "\u001b[K     |████████████████████████████████| 30.6MB 108kB/s \n",
      "\u001b[?25hCollecting numpy>=1.11.3\n",
      "\u001b[?25l  Downloading https://files.pythonhosted.org/packages/03/27/e35e7c6e6a52fab9fcc64fc2b20c6b516eba930bb02b10ace3b38200d3ab/numpy-1.18.4-cp36-cp36m-manylinux1_x86_64.whl (20.2MB)\n",
      "\u001b[K     |████████████████████████████████| 20.2MB 1.3MB/s \n",
      "\u001b[31mERROR: imgaug 0.2.9 requires opencv-python, which is not installed.\u001b[0m\n",
      "\u001b[31mERROR: dopamine-rl 1.0.5 requires opencv-python>=3.4.1.15, which is not installed.\u001b[0m\n",
      "\u001b[31mERROR: albumentations 0.1.12 requires opencv-python, which is not installed.\u001b[0m\n",
      "\u001b[31mERROR: datascience 0.10.6 has requirement folium==0.2.1, but you'll have folium 0.8.3 which is incompatible.\u001b[0m\n",
      "\u001b[31mERROR: albumentations 0.1.12 has requirement imgaug<0.2.7,>=0.2.5, but you'll have imgaug 0.2.9 which is incompatible.\u001b[0m\n",
      "\u001b[?25hInstalling collected packages: numpy, opencv-contrib-python\n",
      "  Found existing installation: numpy 1.18.4\n",
      "    Uninstalling numpy-1.18.4:\n",
      "      Successfully uninstalled numpy-1.18.4\n",
      "  Found existing installation: opencv-contrib-python 4.1.2.30\n",
      "    Uninstalling opencv-contrib-python-4.1.2.30:\n",
      "      Successfully uninstalled opencv-contrib-python-4.1.2.30\n",
      "Successfully installed numpy-1.18.4 opencv-contrib-python-3.4.2.17\n"
     ]
    },
    {
     "data": {
      "application/vnd.colab-display-data+json": {
       "pip_warning": {
        "packages": [
         "cv2",
         "numpy"
        ]
       }
      }
     },
     "metadata": {
      "tags": []
     },
     "output_type": "display_data"
    }
   ],
   "source": [
    "!pip uninstall opencv-python -y\n",
    "\n",
    "!pip install opencv-contrib-python==3.4.2.17 --force-reinstall\n"
   ]
  },
  {
   "cell_type": "code",
   "execution_count": 1,
   "metadata": {
    "colab": {
     "base_uri": "https://localhost:8080/",
     "height": 187
    },
    "colab_type": "code",
    "id": "HBQ913Pio_hW",
    "outputId": "df4031ea-dc9c-4010-8b24-64894ac1e308"
   },
   "outputs": [
    {
     "name": "stdout",
     "output_type": "stream",
     "text": [
      "Collecting neural_structured_learning\n",
      "\u001b[?25l  Downloading https://files.pythonhosted.org/packages/08/2e/22b1385d7d601ad0c81457a5b66b3bb6f3c400348c62ea3f07a5fc1b13bc/neural_structured_learning-1.1.0-py2.py3-none-any.whl (104kB)\n",
      "\r",
      "\u001b[K     |███▏                            | 10kB 14.3MB/s eta 0:00:01\r",
      "\u001b[K     |██████▎                         | 20kB 2.2MB/s eta 0:00:01\r",
      "\u001b[K     |█████████▍                      | 30kB 2.8MB/s eta 0:00:01\r",
      "\u001b[K     |████████████▌                   | 40kB 3.1MB/s eta 0:00:01\r",
      "\u001b[K     |███████████████▋                | 51kB 2.6MB/s eta 0:00:01\r",
      "\u001b[K     |██████████████████▉             | 61kB 2.8MB/s eta 0:00:01\r",
      "\u001b[K     |██████████████████████          | 71kB 3.1MB/s eta 0:00:01\r",
      "\u001b[K     |█████████████████████████       | 81kB 3.3MB/s eta 0:00:01\r",
      "\u001b[K     |████████████████████████████▏   | 92kB 3.6MB/s eta 0:00:01\r",
      "\u001b[K     |███████████████████████████████▎| 102kB 3.4MB/s eta 0:00:01\r",
      "\u001b[K     |████████████████████████████████| 112kB 3.4MB/s \n",
      "\u001b[?25hRequirement already satisfied, skipping upgrade: six in /usr/local/lib/python3.6/dist-packages (from neural_structured_learning) (1.12.0)\n",
      "Requirement already satisfied, skipping upgrade: attrs in /usr/local/lib/python3.6/dist-packages (from neural_structured_learning) (19.3.0)\n",
      "Requirement already satisfied, skipping upgrade: absl-py in /usr/local/lib/python3.6/dist-packages (from neural_structured_learning) (0.9.0)\n",
      "Requirement already satisfied, skipping upgrade: scipy in /usr/local/lib/python3.6/dist-packages (from neural_structured_learning) (1.4.1)\n",
      "Requirement already satisfied, skipping upgrade: numpy>=1.13.3 in /usr/local/lib/python3.6/dist-packages (from scipy->neural_structured_learning) (1.18.4)\n",
      "Installing collected packages: neural-structured-learning\n",
      "Successfully installed neural-structured-learning-1.1.0\n"
     ]
    }
   ],
   "source": [
    "pip install --upgrade neural_structured_learning"
   ]
  },
  {
   "cell_type": "code",
   "execution_count": 2,
   "metadata": {
    "colab": {
     "base_uri": "https://localhost:8080/",
     "height": 122
    },
    "colab_type": "code",
    "id": "5qet6aQ8vDuN",
    "outputId": "f826ebf0-afe9-467f-f051-5d660981d0e5"
   },
   "outputs": [
    {
     "name": "stdout",
     "output_type": "stream",
     "text": [
      "Go to this URL in a browser: https://accounts.google.com/o/oauth2/auth?client_id=947318989803-6bn6qk8qdgf4n4g3pfee6491hc0brc4i.apps.googleusercontent.com&redirect_uri=urn%3aietf%3awg%3aoauth%3a2.0%3aoob&response_type=code&scope=email%20https%3a%2f%2fwww.googleapis.com%2fauth%2fdocs.test%20https%3a%2f%2fwww.googleapis.com%2fauth%2fdrive%20https%3a%2f%2fwww.googleapis.com%2fauth%2fdrive.photos.readonly%20https%3a%2f%2fwww.googleapis.com%2fauth%2fpeopleapi.readonly\n",
      "\n",
      "Enter your authorization code:\n",
      "··········\n",
      "Mounted at /content/drive\n"
     ]
    }
   ],
   "source": [
    "from google.colab import drive\n",
    "drive.mount('/content/drive')\n"
   ]
  },
  {
   "cell_type": "code",
   "execution_count": 0,
   "metadata": {
    "colab": {},
    "colab_type": "code",
    "id": "Vg-Y-j6ayXLt"
   },
   "outputs": [],
   "source": []
  },
  {
   "cell_type": "code",
   "execution_count": 0,
   "metadata": {
    "colab": {},
    "colab_type": "code",
    "id": "nCxECE3BvTTi"
   },
   "outputs": [],
   "source": []
  },
  {
   "cell_type": "code",
   "execution_count": 0,
   "metadata": {
    "colab": {},
    "colab_type": "code",
    "id": "PqUYlK6XvTs4"
   },
   "outputs": [],
   "source": [
    "# #making a directory ciphar_dataset from .tar/gz file\n",
    "# import tarfile\n",
    "# with tarfile.open('/content/drive/My Drive/SML_Project_neural_graph_machines/cifar-10-python.tar.gz', 'r:gz') as tar:\n",
    "#     tar.extractall(\"/content/drive/My Drive/SML_Project_neural_graph_machines/ciphar_dataset\")"
   ]
  },
  {
   "cell_type": "code",
   "execution_count": 0,
   "metadata": {
    "colab": {},
    "colab_type": "code",
    "id": "OULzhxL1vTvi"
   },
   "outputs": [],
   "source": [
    "#importing all library for project\n",
    "import numpy as np\n",
    "import pandas as pd\n",
    "import matplotlib.pyplot as plt\n",
    "from sklearn.model_selection import train_test_split\n",
    "from sklearn.ensemble import RandomForestClassifier\n",
    "import cv2\n",
    "from sklearn.decomposition import PCA\n",
    "from collections import Counter\n",
    "from imblearn.over_sampling import SMOTE\n",
    "from sklearn.svm import SVC\n",
    "from xgboost import XGBClassifier\n",
    "from skimage.feature import hog, local_binary_pattern\n",
    "import sklearn.preprocessing as prp\n",
    "from sklearn.feature_selection import SelectKBest\n",
    "from sklearn.feature_selection import f_classif\n",
    "import neural_structured_learning as nsl\n",
    "from collections import Counter\n",
    "from sklearn.metrics import accuracy_score, precision_score, recall_score, f1_score\n"
   ]
  },
  {
   "cell_type": "code",
   "execution_count": 0,
   "metadata": {
    "colab": {},
    "colab_type": "code",
    "id": "IIqghoy5BsDA"
   },
   "outputs": [],
   "source": []
  },
  {
   "cell_type": "code",
   "execution_count": 0,
   "metadata": {
    "colab": {},
    "colab_type": "code",
    "id": "GSRUHReI1XlW"
   },
   "outputs": [],
   "source": [
    "#LOAD DATASET CIPHAR10 from directory and return train data,train label,test data,test label and filenames\n",
    "def unpickle(file):\n",
    "    import pickle\n",
    "    with open(file, 'rb') as fo:\n",
    "        dict = pickle.load(fo, encoding='bytes')\n",
    "    return dict\n",
    "def load_cifar_10_data(data_dir, negatives=False):\n",
    "   \n",
    "    meta_data_dict = unpickle(data_dir + \"/batches.meta\")\n",
    "    cifar_label_names = meta_data_dict[b'label_names']\n",
    "    cifar_label_names = np.array(cifar_label_names)\n",
    "\n",
    "    # training data\n",
    "    cifar_train_data = None\n",
    "    cifar_train_filenames = []\n",
    "    cifar_train_labels = []\n",
    "\n",
    "\n",
    "    for i in range(1, 6):\n",
    "        cifar_train_data_dict = unpickle(data_dir + \"/data_batch_{}\".format(i))\n",
    "        if i == 1:\n",
    "            cifar_train_data = cifar_train_data_dict[b'data']\n",
    "        else:\n",
    "            cifar_train_data = np.vstack((cifar_train_data, cifar_train_data_dict[b'data']))\n",
    "        cifar_train_filenames += cifar_train_data_dict[b'filenames']\n",
    "        cifar_train_labels += cifar_train_data_dict[b'labels']\n",
    "\n",
    "    cifar_train_data = cifar_train_data.reshape((len(cifar_train_data), 3, 32, 32))\n",
    "    if negatives:\n",
    "        cifar_train_data = cifar_train_data.transpose(0, 2, 3, 1).astype(np.float32)\n",
    "    else:\n",
    "        cifar_train_data = np.rollaxis(cifar_train_data, 1, 4)\n",
    "    cifar_train_filenames = np.array(cifar_train_filenames)\n",
    "    cifar_train_labels = np.array(cifar_train_labels)\n",
    "\n",
    "    cifar_test_data_dict = unpickle(data_dir + \"/test_batch\")\n",
    "    cifar_test_data = cifar_test_data_dict[b'data']\n",
    "    cifar_test_filenames = cifar_test_data_dict[b'filenames']\n",
    "    cifar_test_labels = cifar_test_data_dict[b'labels']\n",
    "\n",
    "    cifar_test_data = cifar_test_data.reshape((len(cifar_test_data), 3, 32, 32))\n",
    "    if negatives:\n",
    "        cifar_test_data = cifar_test_data.transpose(0, 2, 3, 1).astype(np.float32)\n",
    "    else:\n",
    "        cifar_test_data = np.rollaxis(cifar_test_data, 1, 4)\n",
    "    cifar_test_filenames = np.array(cifar_test_filenames)\n",
    "    cifar_test_labels = np.array(cifar_test_labels)\n",
    "\n",
    "    return cifar_train_data, cifar_train_filenames, cifar_train_labels, \\\n",
    "        cifar_test_data, cifar_test_filenames, cifar_test_labels, cifar_label_names"
   ]
  },
  {
   "cell_type": "code",
   "execution_count": 0,
   "metadata": {
    "colab": {},
    "colab_type": "code",
    "id": "4luz5lYqBuHy"
   },
   "outputs": [],
   "source": [
    "#FEATURE EXTRACTION\n",
    "#FEATURE EXTRACTION TECHNIQUES such as Color Histogram ,HOG,SURF,SIFT\n",
    "def get_color_hist(images, name='color_hist'):\n",
    "    histograms = []\n",
    "    for img in images:\n",
    "        histograms.append(cv2.calcHist([img], [0, 1, 2],None, [8, 8, 8], [0, 256, 0, 256, 0, 256]).flatten())\n",
    "    \n",
    "    result = np.array(histograms)\n",
    "    return result\n",
    "\n",
    "def get_hog(train_images_temp,test_images_temp,name='hog'):\n",
    "  hog_features_train=[]\n",
    "  hog_features_test=[]\n",
    "  for i in range(0,len(train_images_temp)):\n",
    "      fd = hog(train_images_temp[i],block_norm='L2')\n",
    "      hog_features_train.append(fd)\n",
    " \n",
    "\n",
    "  for i in range(0,len(test_images_temp)):\n",
    "      fd = hog(test_images_temp[i],block_norm='L2')\n",
    "      hog_features_test.append(fd)\n",
    "\n",
    "  hog_features_train=np.array(hog_features_train)\n",
    "  hog_features_test=np.array(hog_features_test)\n",
    "\n",
    "  return hog_features_train,hog_features_test\n",
    "\n",
    "def get_surf(images, name='surf', save=False):\n",
    "    # SURF descriptor for 1 image\n",
    "    def get_image_surf(image, vector_size=8):\n",
    "        alg = cv2.xfeatures2d.SURF_create()\n",
    "        kps = alg.detect(image, None)\n",
    "        kps = sorted(kps, key=lambda x: -x.response)[:vector_size]\n",
    "        \n",
    "        # Making descriptor of same size\n",
    "        # Descriptor vector size is 64\n",
    "        needed_size = (vector_size * 64)\n",
    "        if len(kps) == 0:\n",
    "            return np.zeros(needed_size)\n",
    "        \n",
    "        kps, dsc = alg.compute(image, kps)\n",
    "        dsc = dsc.flatten()\n",
    "        if dsc.size < needed_size:\n",
    "            # if we have less than 32 descriptors then just adding zeros at the\n",
    "            # end of our feature vector\n",
    "            dsc = np.concatenate([dsc, np.zeros(needed_size - dsc.size)])\n",
    "            \n",
    "        return dsc\n",
    "    \n",
    "    # SURF descriptor for all images\n",
    "    features = []\n",
    "    for i, img in enumerate(images):\n",
    "        dsc = get_image_surf(img)\n",
    "        features.append(dsc)\n",
    "    \n",
    "    result = np.array(features)\n",
    "        \n",
    "    return result\n",
    "\n",
    "def get_sift(images, name='sift'):\n",
    "    # SIFT descriptor for 1 image\n",
    "    def get_image_sift(image, vector_size=8):\n",
    "        alg = cv2.xfeatures2d.SIFT_create()\n",
    "        kps = alg.detect(image, None)\n",
    "        kps = sorted(kps, key=lambda x: -x.response)[:vector_size]\n",
    "        \n",
    "        # Making descriptor of same size\n",
    "        # Descriptor vector size is 128\n",
    "        needed_size = (vector_size * 128)\n",
    "        if len(kps) == 0:\n",
    "            return np.zeros(needed_size)\n",
    "        \n",
    "        kps, dsc = alg.compute(image, kps)\n",
    "        dsc = dsc.flatten()\n",
    "        if dsc.size < needed_size:\n",
    "            # if we have less than 32 descriptors then just adding zeros at the\n",
    "            # end of our feature vector\n",
    "            dsc = np.concatenate([dsc, np.zeros(needed_size - dsc.size)])\n",
    "            \n",
    "        return dsc\n",
    "    \n",
    "    # SIFT descriptor for all images\n",
    "    features = []\n",
    "    for i, img in enumerate(images):\n",
    "        dsc = get_image_sift(img)\n",
    "        features.append(dsc)\n",
    "\n",
    "    result = np.array(features)\n",
    "        \n",
    "    return result"
   ]
  },
  {
   "cell_type": "code",
   "execution_count": 7,
   "metadata": {
    "colab": {
     "base_uri": "https://localhost:8080/",
     "height": 351
    },
    "colab_type": "code",
    "id": "F-iKoxFut73B",
    "outputId": "28b93038-28f3-44c0-a5c2-1467b0c6dcca"
   },
   "outputs": [
    {
     "name": "stdout",
     "output_type": "stream",
     "text": [
      "(50000, 32, 32)\n",
      "(50000, 3072)\n",
      "[b'airplane' b'automobile' b'bird' b'cat' b'deer' b'dog' b'frog' b'horse'\n",
      " b'ship' b'truck']\n",
      "b'airplane'\n"
     ]
    },
    {
     "data": {
      "image/png": "[encoded data removed]",
      "text/plain": [
       "<Figure size 432x288 with 1 Axes>"
      ]
     },
     "metadata": {
      "needs_background": "light",
      "tags": []
     },
     "output_type": "display_data"
    }
   ],
   "source": [
    "#Load Data and Visualization and Preprocessing\n",
    "cifar_10_dir = '/content/drive/My Drive/SML_Project_neural_graph_machines/ciphar_dataset/cifar-10-batches-py'\n",
    "train_data, train_filenames, train_labels, test_data, test_filenames, test_labels, label_names = load_cifar_10_data(cifar_10_dir)\n",
    "train_data_gray=[cv2.cvtColor(img,cv2.COLOR_BGR2GRAY) for img in train_data]\n",
    "test_data_gray=[cv2.cvtColor(img,cv2.COLOR_BGR2GRAY) for img in test_data]\n",
    "train_data_flatten=train_data.reshape(train_data.shape[0],train_data.shape[1]*train_data.shape[2]*train_data.shape[3])\n",
    "test_data_flatten=test_data.reshape(test_data.shape[0],test_data.shape[1]*test_data.shape[2]*test_data.shape[3])\n",
    "train_data_gray=np.array(train_data_gray)\n",
    "test_data_gray=np.array(test_data_gray)\n",
    "print(train_data_gray.shape)\n",
    "plt.imshow(train_data_gray[1])\n",
    "print(train_data_flatten.shape)\n",
    "print(label_names)\n",
    "train_data=train_data.astype('float32')\n",
    "test_data=test_data.astype('float32')\n",
    "train_data=train_data/255.0\n",
    "test_data=test_data/255.0\n",
    "\n",
    "print((label_names[0]))"
   ]
  },
  {
   "cell_type": "code",
   "execution_count": 0,
   "metadata": {
    "colab": {},
    "colab_type": "code",
    "id": "BLO5zDf_s5nl"
   },
   "outputs": [],
   "source": []
  },
  {
   "cell_type": "code",
   "execution_count": 8,
   "metadata": {
    "colab": {
     "base_uri": "https://localhost:8080/",
     "height": 495
    },
    "colab_type": "code",
    "id": "Lc4Uegjds5jL",
    "outputId": "49564398-40bd-43eb-d2dc-a8acf61adc2e"
   },
   "outputs": [
    {
     "data": {
      "image/png": "[encoded data removed]",
      "text/plain": [
       "<Figure size 720x576 with 12 Axes>"
      ]
     },
     "metadata": {
      "needs_background": "light",
      "tags": []
     },
     "output_type": "display_data"
    },
    {
     "name": "stdout",
     "output_type": "stream",
     "text": [
      "Counter({6: 5000, 9: 5000, 4: 5000, 1: 5000, 2: 5000, 7: 5000, 8: 5000, 3: 5000, 5: 5000, 0: 5000})\n"
     ]
    }
   ],
   "source": [
    "#Data Visualization\n",
    "w=10\n",
    "h=10\n",
    "fig=plt.figure(figsize=(10, 8))\n",
    "columns = 4\n",
    "rows = 3\n",
    "for i in range(1, columns*rows +1):\n",
    "    img = train_data[i]\n",
    "    fig.add_subplot(rows, columns, i)\n",
    "    plt.imshow(img)\n",
    "plt.show()\n",
    "counter=Counter(train_labels)\n",
    "print(counter)"
   ]
  },
  {
   "cell_type": "code",
   "execution_count": 9,
   "metadata": {
    "colab": {
     "base_uri": "https://localhost:8080/",
     "height": 153
    },
    "colab_type": "code",
    "id": "cvxb9HjXuC0I",
    "outputId": "e708dd5f-d3af-49a5-b8b1-c073c4aa1291"
   },
   "outputs": [
    {
     "name": "stdout",
     "output_type": "stream",
     "text": [
      "Train data:  (50000, 32, 32, 3)\n",
      "Train filenames:  (50000,)\n",
      "Train labels:  (50000,)\n",
      "Test data:  (10000, 32, 32, 3)\n",
      "Test filenames:  (10000,)\n",
      "Test labels:  (10000,)\n",
      "Label names:  (10,)\n",
      "[6 9 9 ... 9 1 1]\n"
     ]
    }
   ],
   "source": [
    "    #Shapes of all data (training,testing,labels)\n",
    "    print(\"Train data: \", train_data.shape)\n",
    "    print(\"Train filenames: \", train_filenames.shape)\n",
    "    print(\"Train labels: \", train_labels.shape)\n",
    "    print(\"Test data: \", test_data.shape)\n",
    "    print(\"Test filenames: \", test_filenames.shape)\n",
    "    print(\"Test labels: \", test_labels.shape)\n",
    "    print(\"Label names: \", label_names.shape)\n",
    "    print(train_labels[:])"
   ]
  },
  {
   "cell_type": "code",
   "execution_count": 0,
   "metadata": {
    "colab": {},
    "colab_type": "code",
    "id": "9q9Z5QMxzvM6"
   },
   "outputs": [],
   "source": []
  },
  {
   "cell_type": "code",
   "execution_count": 0,
   "metadata": {
    "colab": {
     "base_uri": "https://localhost:8080/",
     "height": 85
    },
    "colab_type": "code",
    "id": "lwtVt5yq3J-V",
    "outputId": "89984b13-a0be-4c2f-c19b-7ba13478511a"
   },
   "outputs": [
    {
     "name": "stdout",
     "output_type": "stream",
     "text": [
      "(50000, 512)\n",
      "(50000, 324)\n",
      "(50000, 1024)\n",
      "(50000, 1024)\n"
     ]
    }
   ],
   "source": [
    "train_data_hist=get_color_hist(train_data)\n",
    "test_data_hist=get_color_hist(test_data)\n",
    "train_data_hog,test_data_hog=get_hog(train_data_gray,test_data_gray)\n",
    "train_data_sift=get_sift(train_data_gray)\n",
    "test_data_sift=get_sift(test_data_gray)\n",
    "train_data_surf=get_sift(train_data_gray)\n",
    "test_data_surf=get_sift(test_data_gray)\n",
    "print(train_data_hist.shape)\n",
    "print(train_data_hog.shape)\n",
    "print(train_data_sift.shape)\n",
    "print(train_data_surf.shape)"
   ]
  },
  {
   "cell_type": "code",
   "execution_count": 0,
   "metadata": {
    "colab": {},
    "colab_type": "code",
    "id": "2QHujdbU0vC8"
   },
   "outputs": [],
   "source": []
  },
  {
   "cell_type": "code",
   "execution_count": 0,
   "metadata": {
    "colab": {
     "base_uri": "https://localhost:8080/",
     "height": 283
    },
    "colab_type": "code",
    "id": "3t4eLbmmvd4w",
    "outputId": "de6b517e-b0f7-4535-fc5c-4970702f224f"
   },
   "outputs": [
    {
     "data": {
      "text/plain": [
       "<matplotlib.image.AxesImage at 0x7f1935760780>"
      ]
     },
     "execution_count": 25,
     "metadata": {
      "tags": []
     },
     "output_type": "execute_result"
    },
    {
     "data": {
      "image/png": "[encoded data removed]",
      "text/plain": [
       "<Figure size 432x288 with 1 Axes>"
      ]
     },
     "metadata": {
      "needs_background": "light",
      "tags": []
     },
     "output_type": "display_data"
    }
   ],
   "source": [
    "plt.imshow(train_data_sift[1].reshape(32,32))"
   ]
  },
  {
   "cell_type": "code",
   "execution_count": 0,
   "metadata": {
    "colab": {
     "base_uri": "https://localhost:8080/",
     "height": 283
    },
    "colab_type": "code",
    "id": "1fM9snh40YUD",
    "outputId": "fe8abbc7-02bf-4bf3-cfb7-04b4e24319bb"
   },
   "outputs": [
    {
     "data": {
      "text/plain": [
       "<matplotlib.image.AxesImage at 0x7f1936293ba8>"
      ]
     },
     "execution_count": 26,
     "metadata": {
      "tags": []
     },
     "output_type": "execute_result"
    },
    {
     "data": {
      "image/png": "[encoded data removed]",
      "text/plain": [
       "<Figure size 432x288 with 1 Axes>"
      ]
     },
     "metadata": {
      "needs_background": "light",
      "tags": []
     },
     "output_type": "display_data"
    }
   ],
   "source": [
    "plt.imshow(train_data_surf[1].reshape(32,32))"
   ]
  },
  {
   "cell_type": "code",
   "execution_count": 0,
   "metadata": {
    "colab": {},
    "colab_type": "code",
    "id": "gzHEQivO1NcE"
   },
   "outputs": [],
   "source": []
  },
  {
   "cell_type": "code",
   "execution_count": 0,
   "metadata": {
    "colab": {},
    "colab_type": "code",
    "id": "XkLvTbkK4Lt6"
   },
   "outputs": [],
   "source": [
    "X_train,X_test,y_train,y_test=train_test_split(train_data,train_labels,test_size=0.2,random_state=42)"
   ]
  },
  {
   "cell_type": "code",
   "execution_count": 0,
   "metadata": {
    "colab": {},
    "colab_type": "code",
    "id": "403TU7bt0V_T"
   },
   "outputs": [],
   "source": []
  },
  {
   "cell_type": "code",
   "execution_count": 0,
   "metadata": {
    "colab": {
     "base_uri": "https://localhost:8080/",
     "height": 85
    },
    "colab_type": "code",
    "id": "2koyH12LA-Qx",
    "outputId": "b7c4d221-c11d-4135-9d20-aae39b088393"
   },
   "outputs": [
    {
     "name": "stdout",
     "output_type": "stream",
     "text": [
      "0.1\n",
      "0.5093\n",
      "0.2259\n",
      "0.2313\n"
     ]
    }
   ],
   "source": [
    "model=RandomForestClassifier()\n",
    "model.fit(train_data_hist,train_labels)\n",
    "print(model.score(test_data_hist,test_labels))\n",
    "model=RandomForestClassifier()\n",
    "model.fit(train_data_hog,train_labels)\n",
    "print(model.score(test_data_hog,test_labels))\n",
    "model=RandomForestClassifier()\n",
    "model.fit(train_data_sift,train_labels)\n",
    "print(model.score(test_data_sift,test_labels))\n",
    "model=RandomForestClassifier()\n",
    "model.fit(train_data_surf,train_labels)\n",
    "print(model.score(test_data_surf,test_labels))"
   ]
  },
  {
   "cell_type": "code",
   "execution_count": 0,
   "metadata": {
    "colab": {
     "base_uri": "https://localhost:8080/",
     "height": 34
    },
    "colab_type": "code",
    "id": "B8xbs036BMdY",
    "outputId": "c9abd949-caa3-4325-c838-1274c0e20304"
   },
   "outputs": [
    {
     "name": "stdout",
     "output_type": "stream",
     "text": [
      "0.4074\n"
     ]
    }
   ],
   "source": [
    "model=SVC()\n",
    "model.fit(X_train,y_train)\n",
    "print(model.score(X_test,y_test))\n"
   ]
  },
  {
   "cell_type": "code",
   "execution_count": 0,
   "metadata": {
    "colab": {
     "base_uri": "https://localhost:8080/",
     "height": 34
    },
    "colab_type": "code",
    "id": "4N9yX8eqIZR7",
    "outputId": "1a9d9595-761a-4c2b-d3bd-b959e847c030"
   },
   "outputs": [
    {
     "name": "stdout",
     "output_type": "stream",
     "text": [
      "0.4741\n"
     ]
    }
   ],
   "source": [
    "# model=RandomForestClassifier()\n",
    "# model.fit(train_data.reshape(50000,3072),train_labels)\n",
    "print(model.score(test_data.reshape(10000,3072),test_labels))"
   ]
  },
  {
   "cell_type": "code",
   "execution_count": 0,
   "metadata": {
    "colab": {},
    "colab_type": "code",
    "id": "lMp-gNaeVPCo"
   },
   "outputs": [],
   "source": [
    "#history=model.fit(train_data,train_labels,validation_data=(test_data,test_labels),epochs=15)"
   ]
  },
  {
   "cell_type": "code",
   "execution_count": 10,
   "metadata": {
    "colab": {
     "base_uri": "https://localhost:8080/",
     "height": 34
    },
    "colab_type": "code",
    "id": "g0HzahCYVvY3",
    "outputId": "e15bc51c-7e46-4ea6-f6c6-7fddb3013a4c"
   },
   "outputs": [
    {
     "name": "stderr",
     "output_type": "stream",
     "text": [
      "Using TensorFlow backend.\n"
     ]
    }
   ],
   "source": [
    "import sys\n",
    "import tensorflow as tf\n",
    "from matplotlib import pyplot\n",
    "from keras.datasets import cifar10\n",
    "from keras.utils import to_categorical\n",
    "from keras.models import Sequential\n",
    "from keras.layers import Conv2D\n",
    "from keras.layers import MaxPooling2D\n",
    "from keras.layers import Dense\n",
    "from keras.layers import Flatten\n",
    "from keras.optimizers import SGD"
   ]
  },
  {
   "cell_type": "code",
   "execution_count": 0,
   "metadata": {
    "colab": {},
    "colab_type": "code",
    "id": "z7TxnoN1hmUG"
   },
   "outputs": [],
   "source": [
    "train_labels_cat=to_categorical(train_labels)\n",
    "test_labels_cat=to_categorical(test_labels)\n",
    "import tensorflow as tf\n",
    "from tensorflow import keras\n",
    "from tensorflow.keras import layers\n",
    "#1VGG BLOCK\n",
    "def base_model_func1():\n",
    "  inputs=keras.Input(shape=(32,32,3),dtype=tf.float32,name=IMAGE_INPUT_NAME)\n",
    "  x=inputs\n",
    "  x=keras.layers.Conv2D(32,(3,3),activation='relu')(x)\n",
    "  x=keras.layers.Conv2D(32,(3,3),activation='relu')(x)\n",
    "  x=keras.layers.MaxPooling2D((2,2))(x)\n",
    "  x=keras.layers.Flatten()(x)\n",
    "  x=keras.layers.Dense(128,activation='relu')(x)\n",
    "  output=keras.layers.Dense(10,activation='softmax')(x)\n",
    "  model=keras.Model(inputs=inputs,outputs=output,name='cifar10_basemodel_1VGG')\n",
    "  return model\n",
    "\n",
    "#2VGG BLOCK\n",
    "def base_model_func2():\n",
    "  inputs=keras.Input(shape=(32,32,3),dtype=tf.float32,name=IMAGE_INPUT_NAME)\n",
    "  x=inputs\n",
    "  x=keras.layers.Conv2D(32,(3,3),activation='relu')(x)\n",
    "  x=keras.layers.Conv2D(32,(3,3),activation='relu')(x)\n",
    "  x=keras.layers.MaxPooling2D((2,2))(x)\n",
    "  x=keras.layers.Conv2D(64,(3,3),activation='relu')(x)\n",
    "  x=keras.layers.Conv2D(64,(3,3),activation='relu')(x)\n",
    "  x=keras.layers.MaxPooling2D((2,2))(x)\n",
    "  x=keras.layers.Flatten()(x)\n",
    "  x=keras.layers.Dense(128,activation='relu')(x)\n",
    "  output=keras.layers.Dense(10,activation='softmax')(x)\n",
    "  model=keras.Model(inputs=inputs,outputs=output,name='cifar10_basemodel_2VGG')\n",
    "  return model\n",
    "\n",
    "#3VGG BLOCK\n",
    "def base_model_func3():\n",
    "  inputs=keras.Input(shape=(32,32,3),dtype=tf.float32,name=IMAGE_INPUT_NAME)\n",
    "  x=inputs\n",
    "  x=keras.layers.Conv2D(32,(3,3),activation='relu')(x)\n",
    "  x=keras.layers.Conv2D(32,(3,3),activation='relu')(x)\n",
    "  x=keras.layers.MaxPooling2D((2,2))(x)\n",
    "  x=keras.layers.Dropout(0.2)(x)\n",
    "  x=keras.layers.Conv2D(64,(3,3),activation='relu')(x)\n",
    "  x=keras.layers.Conv2D(64,(3,3),activation='relu')(x)\n",
    "  x=keras.layers.MaxPooling2D((2,2))(x)\n",
    "  x=keras.layers.Dropout(0.2)(x)\n",
    "  x=keras.layers.Conv2D(128,(3,3),activation='relu')(x)\n",
    "  x=keras.layers.Conv2D(128,(3,3),activation='relu')(x)\n",
    "  x=keras.layers.Dropout(0.2)(x)\n",
    "  #x=keras.layers.MaxPooling2D((2,2))(x)  \n",
    "  x=keras.layers.Flatten()(x)\n",
    "  x=keras.layers.Dense(128,activation='relu')(x)\n",
    "  x=keras.layers.Dropout(0.2)(x)\n",
    "  output=keras.layers.Dense(10,activation='softmax')(x)\n",
    "  model=keras.Model(inputs=inputs,outputs=output,name='cifar10_basemodel_3VGG')\n",
    "  return model\n"
   ]
  },
  {
   "cell_type": "code",
   "execution_count": 0,
   "metadata": {
    "colab": {},
    "colab_type": "code",
    "id": "UwbxzjgTQTgc"
   },
   "outputs": [],
   "source": []
  },
  {
   "cell_type": "code",
   "execution_count": 0,
   "metadata": {
    "colab": {},
    "colab_type": "code",
    "id": "l7Y0nW9AhmXA"
   },
   "outputs": [],
   "source": []
  },
  {
   "cell_type": "code",
   "execution_count": 0,
   "metadata": {
    "colab": {},
    "colab_type": "code",
    "id": "SQtGqrSx6n_z"
   },
   "outputs": [],
   "source": [
    "def convert_to_tuples(features):\n",
    "  return features[IMAGE_INPUT_NAME], features[LABEL_INPUT_NAME]\n",
    "\n",
    "def convert_to_dictionaries(image, label):\n",
    "  return {IMAGE_INPUT_NAME: image, LABEL_INPUT_NAME: label}\n",
    "  "
   ]
  },
  {
   "cell_type": "code",
   "execution_count": 41,
   "metadata": {
    "colab": {
     "base_uri": "https://localhost:8080/",
     "height": 1000
    },
    "colab_type": "code",
    "id": "CsYl1qnZjzNp",
    "outputId": "8b7f5d8f-de45-49e1-9137-976a0b309fbb"
   },
   "outputs": [
    {
     "name": "stdout",
     "output_type": "stream",
     "text": [
      "Model: \"cifar10_basemodel_3VGG\"\n",
      "_________________________________________________________________\n",
      "Layer (type)                 Output Shape              Param #   \n",
      "=================================================================\n",
      "image (InputLayer)           [(None, 32, 32, 3)]       0         \n",
      "_________________________________________________________________\n",
      "conv2d_10 (Conv2D)           (None, 30, 30, 32)        896       \n",
      "_________________________________________________________________\n",
      "conv2d_11 (Conv2D)           (None, 28, 28, 32)        9248      \n",
      "_________________________________________________________________\n",
      "max_pooling2d_5 (MaxPooling2 (None, 14, 14, 32)        0         \n",
      "_________________________________________________________________\n",
      "dropout (Dropout)            (None, 14, 14, 32)        0         \n",
      "_________________________________________________________________\n",
      "conv2d_12 (Conv2D)           (None, 12, 12, 64)        18496     \n",
      "_________________________________________________________________\n",
      "conv2d_13 (Conv2D)           (None, 10, 10, 64)        36928     \n",
      "_________________________________________________________________\n",
      "max_pooling2d_6 (MaxPooling2 (None, 5, 5, 64)          0         \n",
      "_________________________________________________________________\n",
      "dropout_1 (Dropout)          (None, 5, 5, 64)          0         \n",
      "_________________________________________________________________\n",
      "conv2d_14 (Conv2D)           (None, 3, 3, 128)         73856     \n",
      "_________________________________________________________________\n",
      "conv2d_15 (Conv2D)           (None, 1, 1, 128)         147584    \n",
      "_________________________________________________________________\n",
      "dropout_2 (Dropout)          (None, 1, 1, 128)         0         \n",
      "_________________________________________________________________\n",
      "flatten_3 (Flatten)          (None, 128)               0         \n",
      "_________________________________________________________________\n",
      "dense_6 (Dense)              (None, 128)               16512     \n",
      "_________________________________________________________________\n",
      "dropout_3 (Dropout)          (None, 128)               0         \n",
      "_________________________________________________________________\n",
      "dense_7 (Dense)              (None, 10)                1290      \n",
      "=================================================================\n",
      "Total params: 304,810\n",
      "Trainable params: 304,810\n",
      "Non-trainable params: 0\n",
      "_________________________________________________________________\n",
      "Epoch 1/100\n",
      "1563/1563 [==============================] - ETA: 0s - loss: 2.1966 - accuracy: 0.1708\n",
      "Epoch 00001: val_accuracy improved from -inf to 0.25640, saving model to best_model.h5\n",
      "1563/1563 [==============================] - 17s 11ms/step - loss: 2.1966 - accuracy: 0.1708 - val_loss: 2.0663 - val_accuracy: 0.2564\n",
      "Epoch 2/100\n",
      "1562/1563 [============================>.] - ETA: 0s - loss: 1.9152 - accuracy: 0.2930\n",
      "Epoch 00002: val_accuracy improved from 0.25640 to 0.36300, saving model to best_model.h5\n",
      "1563/1563 [==============================] - 16s 10ms/step - loss: 1.9151 - accuracy: 0.2930 - val_loss: 1.7276 - val_accuracy: 0.3630\n",
      "Epoch 3/100\n",
      "1562/1563 [============================>.] - ETA: 0s - loss: 1.7519 - accuracy: 0.3568\n",
      "Epoch 00003: val_accuracy did not improve from 0.36300\n",
      "1563/1563 [==============================] - 16s 10ms/step - loss: 1.7518 - accuracy: 0.3568 - val_loss: 1.7608 - val_accuracy: 0.3507\n",
      "Epoch 4/100\n",
      "1560/1563 [============================>.] - ETA: 0s - loss: 1.6505 - accuracy: 0.3939\n",
      "Epoch 00004: val_accuracy improved from 0.36300 to 0.44440, saving model to best_model.h5\n",
      "1563/1563 [==============================] - 16s 10ms/step - loss: 1.6503 - accuracy: 0.3940 - val_loss: 1.5199 - val_accuracy: 0.4444\n",
      "Epoch 5/100\n",
      "1559/1563 [============================>.] - ETA: 0s - loss: 1.5636 - accuracy: 0.4272\n",
      "Epoch 00005: val_accuracy improved from 0.44440 to 0.46020, saving model to best_model.h5\n",
      "1563/1563 [==============================] - 16s 10ms/step - loss: 1.5634 - accuracy: 0.4274 - val_loss: 1.4614 - val_accuracy: 0.4602\n",
      "Epoch 6/100\n",
      "1560/1563 [============================>.] - ETA: 0s - loss: 1.4866 - accuracy: 0.4547\n",
      "Epoch 00006: val_accuracy improved from 0.46020 to 0.48980, saving model to best_model.h5\n",
      "1563/1563 [==============================] - 16s 10ms/step - loss: 1.4864 - accuracy: 0.4547 - val_loss: 1.3815 - val_accuracy: 0.4898\n",
      "Epoch 7/100\n",
      "1561/1563 [============================>.] - ETA: 0s - loss: 1.4202 - accuracy: 0.4860\n",
      "Epoch 00007: val_accuracy improved from 0.48980 to 0.51750, saving model to best_model.h5\n",
      "1563/1563 [==============================] - 16s 10ms/step - loss: 1.4203 - accuracy: 0.4860 - val_loss: 1.3349 - val_accuracy: 0.5175\n",
      "Epoch 8/100\n",
      "1559/1563 [============================>.] - ETA: 0s - loss: 1.3571 - accuracy: 0.5088\n",
      "Epoch 00008: val_accuracy improved from 0.51750 to 0.52200, saving model to best_model.h5\n",
      "1563/1563 [==============================] - 16s 10ms/step - loss: 1.3568 - accuracy: 0.5089 - val_loss: 1.3332 - val_accuracy: 0.5220\n",
      "Epoch 9/100\n",
      "1559/1563 [============================>.] - ETA: 0s - loss: 1.2966 - accuracy: 0.5381\n",
      "Epoch 00009: val_accuracy improved from 0.52200 to 0.53820, saving model to best_model.h5\n",
      "1563/1563 [==============================] - 16s 10ms/step - loss: 1.2970 - accuracy: 0.5380 - val_loss: 1.2875 - val_accuracy: 0.5382\n",
      "Epoch 10/100\n",
      "1560/1563 [============================>.] - ETA: 0s - loss: 1.2425 - accuracy: 0.5550\n",
      "Epoch 00010: val_accuracy did not improve from 0.53820\n",
      "1563/1563 [==============================] - 16s 10ms/step - loss: 1.2421 - accuracy: 0.5552 - val_loss: 1.3256 - val_accuracy: 0.5244\n",
      "Epoch 11/100\n",
      "1563/1563 [==============================] - ETA: 0s - loss: 1.1948 - accuracy: 0.5758\n",
      "Epoch 00011: val_accuracy improved from 0.53820 to 0.59520, saving model to best_model.h5\n",
      "1563/1563 [==============================] - 16s 10ms/step - loss: 1.1948 - accuracy: 0.5758 - val_loss: 1.1451 - val_accuracy: 0.5952\n",
      "Epoch 12/100\n",
      "1563/1563 [==============================] - ETA: 0s - loss: 1.1417 - accuracy: 0.5955\n",
      "Epoch 00012: val_accuracy improved from 0.59520 to 0.62850, saving model to best_model.h5\n",
      "1563/1563 [==============================] - 16s 10ms/step - loss: 1.1417 - accuracy: 0.5955 - val_loss: 1.0598 - val_accuracy: 0.6285\n",
      "Epoch 13/100\n",
      "1560/1563 [============================>.] - ETA: 0s - loss: 1.0995 - accuracy: 0.6108\n",
      "Epoch 00013: val_accuracy improved from 0.62850 to 0.63140, saving model to best_model.h5\n",
      "1563/1563 [==============================] - 16s 10ms/step - loss: 1.0994 - accuracy: 0.6108 - val_loss: 1.0451 - val_accuracy: 0.6314\n",
      "Epoch 14/100\n",
      "1560/1563 [============================>.] - ETA: 0s - loss: 1.0590 - accuracy: 0.6268\n",
      "Epoch 00014: val_accuracy improved from 0.63140 to 0.63910, saving model to best_model.h5\n",
      "1563/1563 [==============================] - 16s 10ms/step - loss: 1.0590 - accuracy: 0.6268 - val_loss: 1.0144 - val_accuracy: 0.6391\n",
      "Epoch 15/100\n",
      "1559/1563 [============================>.] - ETA: 0s - loss: 1.0200 - accuracy: 0.6398\n",
      "Epoch 00015: val_accuracy improved from 0.63910 to 0.65180, saving model to best_model.h5\n",
      "1563/1563 [==============================] - 16s 10ms/step - loss: 1.0200 - accuracy: 0.6397 - val_loss: 0.9958 - val_accuracy: 0.6518\n",
      "Epoch 16/100\n",
      "1561/1563 [============================>.] - ETA: 0s - loss: 0.9801 - accuracy: 0.6550\n",
      "Epoch 00016: val_accuracy improved from 0.65180 to 0.67790, saving model to best_model.h5\n",
      "1563/1563 [==============================] - 16s 10ms/step - loss: 0.9801 - accuracy: 0.6551 - val_loss: 0.9197 - val_accuracy: 0.6779\n",
      "Epoch 17/100\n",
      "1562/1563 [============================>.] - ETA: 0s - loss: 0.9425 - accuracy: 0.6699\n",
      "Epoch 00017: val_accuracy improved from 0.67790 to 0.69770, saving model to best_model.h5\n",
      "1563/1563 [==============================] - 16s 10ms/step - loss: 0.9426 - accuracy: 0.6699 - val_loss: 0.8699 - val_accuracy: 0.6977\n",
      "Epoch 18/100\n",
      "1558/1563 [============================>.] - ETA: 0s - loss: 0.9061 - accuracy: 0.6821\n",
      "Epoch 00018: val_accuracy did not improve from 0.69770\n",
      "1563/1563 [==============================] - 16s 10ms/step - loss: 0.9061 - accuracy: 0.6821 - val_loss: 0.9263 - val_accuracy: 0.6770\n",
      "Epoch 19/100\n",
      "1561/1563 [============================>.] - ETA: 0s - loss: 0.8750 - accuracy: 0.6930\n",
      "Epoch 00019: val_accuracy improved from 0.69770 to 0.70150, saving model to best_model.h5\n",
      "1563/1563 [==============================] - 16s 10ms/step - loss: 0.8752 - accuracy: 0.6929 - val_loss: 0.8610 - val_accuracy: 0.7015\n",
      "Epoch 20/100\n",
      "1560/1563 [============================>.] - ETA: 0s - loss: 0.8435 - accuracy: 0.7045\n",
      "Epoch 00020: val_accuracy did not improve from 0.70150\n",
      "1563/1563 [==============================] - 16s 10ms/step - loss: 0.8435 - accuracy: 0.7045 - val_loss: 0.8593 - val_accuracy: 0.7003\n",
      "Epoch 21/100\n",
      "1561/1563 [============================>.] - ETA: 0s - loss: 0.8137 - accuracy: 0.7154\n",
      "Epoch 00021: val_accuracy improved from 0.70150 to 0.71390, saving model to best_model.h5\n",
      "1563/1563 [==============================] - 16s 10ms/step - loss: 0.8137 - accuracy: 0.7154 - val_loss: 0.8179 - val_accuracy: 0.7139\n",
      "Epoch 22/100\n",
      "1561/1563 [============================>.] - ETA: 0s - loss: 0.7935 - accuracy: 0.7222\n",
      "Epoch 00022: val_accuracy improved from 0.71390 to 0.72300, saving model to best_model.h5\n",
      "1563/1563 [==============================] - 16s 10ms/step - loss: 0.7933 - accuracy: 0.7222 - val_loss: 0.7817 - val_accuracy: 0.7230\n",
      "Epoch 23/100\n",
      "1560/1563 [============================>.] - ETA: 0s - loss: 0.7655 - accuracy: 0.7320\n",
      "Epoch 00023: val_accuracy improved from 0.72300 to 0.73670, saving model to best_model.h5\n",
      "1563/1563 [==============================] - 16s 10ms/step - loss: 0.7657 - accuracy: 0.7320 - val_loss: 0.7622 - val_accuracy: 0.7367\n",
      "Epoch 24/100\n",
      "1559/1563 [============================>.] - ETA: 0s - loss: 0.7472 - accuracy: 0.7396\n",
      "Epoch 00024: val_accuracy did not improve from 0.73670\n",
      "1563/1563 [==============================] - 16s 10ms/step - loss: 0.7473 - accuracy: 0.7395 - val_loss: 0.8450 - val_accuracy: 0.7108\n",
      "Epoch 25/100\n",
      "1562/1563 [============================>.] - ETA: 0s - loss: 0.7240 - accuracy: 0.7441\n",
      "Epoch 00025: val_accuracy improved from 0.73670 to 0.74360, saving model to best_model.h5\n",
      "1563/1563 [==============================] - 16s 10ms/step - loss: 0.7239 - accuracy: 0.7441 - val_loss: 0.7411 - val_accuracy: 0.7436\n",
      "Epoch 26/100\n",
      "1559/1563 [============================>.] - ETA: 0s - loss: 0.7098 - accuracy: 0.7517\n",
      "Epoch 00026: val_accuracy improved from 0.74360 to 0.74980, saving model to best_model.h5\n",
      "1563/1563 [==============================] - 16s 10ms/step - loss: 0.7101 - accuracy: 0.7516 - val_loss: 0.7338 - val_accuracy: 0.7498\n",
      "Epoch 27/100\n",
      "1563/1563 [==============================] - ETA: 0s - loss: 0.6888 - accuracy: 0.7602\n",
      "Epoch 00027: val_accuracy improved from 0.74980 to 0.75000, saving model to best_model.h5\n",
      "1563/1563 [==============================] - 16s 10ms/step - loss: 0.6888 - accuracy: 0.7602 - val_loss: 0.7292 - val_accuracy: 0.7500\n",
      "Epoch 28/100\n",
      "1559/1563 [============================>.] - ETA: 0s - loss: 0.6733 - accuracy: 0.7642\n",
      "Epoch 00028: val_accuracy improved from 0.75000 to 0.75480, saving model to best_model.h5\n",
      "1563/1563 [==============================] - 16s 10ms/step - loss: 0.6734 - accuracy: 0.7642 - val_loss: 0.7081 - val_accuracy: 0.7548\n",
      "Epoch 29/100\n",
      "1563/1563 [==============================] - ETA: 0s - loss: 0.6523 - accuracy: 0.7722\n",
      "Epoch 00029: val_accuracy improved from 0.75480 to 0.75840, saving model to best_model.h5\n",
      "1563/1563 [==============================] - 16s 10ms/step - loss: 0.6523 - accuracy: 0.7722 - val_loss: 0.7091 - val_accuracy: 0.7584\n",
      "Epoch 30/100\n",
      "1559/1563 [============================>.] - ETA: 0s - loss: 0.6390 - accuracy: 0.7767\n",
      "Epoch 00030: val_accuracy improved from 0.75840 to 0.76140, saving model to best_model.h5\n",
      "1563/1563 [==============================] - 16s 10ms/step - loss: 0.6387 - accuracy: 0.7768 - val_loss: 0.7168 - val_accuracy: 0.7614\n",
      "Epoch 31/100\n",
      "1559/1563 [============================>.] - ETA: 0s - loss: 0.6202 - accuracy: 0.7818\n",
      "Epoch 00031: val_accuracy improved from 0.76140 to 0.76980, saving model to best_model.h5\n",
      "1563/1563 [==============================] - 16s 10ms/step - loss: 0.6200 - accuracy: 0.7819 - val_loss: 0.6814 - val_accuracy: 0.7698\n",
      "Epoch 32/100\n",
      "1558/1563 [============================>.] - ETA: 0s - loss: 0.6044 - accuracy: 0.7880\n",
      "Epoch 00032: val_accuracy did not improve from 0.76980\n",
      "1563/1563 [==============================] - 16s 10ms/step - loss: 0.6043 - accuracy: 0.7880 - val_loss: 0.7000 - val_accuracy: 0.7622\n",
      "Epoch 33/100\n",
      "1560/1563 [============================>.] - ETA: 0s - loss: 0.5955 - accuracy: 0.7904\n",
      "Epoch 00033: val_accuracy improved from 0.76980 to 0.77190, saving model to best_model.h5\n",
      "1563/1563 [==============================] - 16s 10ms/step - loss: 0.5954 - accuracy: 0.7904 - val_loss: 0.6682 - val_accuracy: 0.7719\n",
      "Epoch 34/100\n",
      "1562/1563 [============================>.] - ETA: 0s - loss: 0.5836 - accuracy: 0.7967\n",
      "Epoch 00034: val_accuracy did not improve from 0.77190\n",
      "1563/1563 [==============================] - 16s 10ms/step - loss: 0.5836 - accuracy: 0.7967 - val_loss: 0.6743 - val_accuracy: 0.7712\n",
      "Epoch 35/100\n",
      "1560/1563 [============================>.] - ETA: 0s - loss: 0.5724 - accuracy: 0.7994\n",
      "Epoch 00035: val_accuracy did not improve from 0.77190\n",
      "1563/1563 [==============================] - 16s 10ms/step - loss: 0.5726 - accuracy: 0.7993 - val_loss: 0.7129 - val_accuracy: 0.7620\n",
      "Epoch 36/100\n",
      "1560/1563 [============================>.] - ETA: 0s - loss: 0.5581 - accuracy: 0.8035\n",
      "Epoch 00036: val_accuracy improved from 0.77190 to 0.77330, saving model to best_model.h5\n",
      "1563/1563 [==============================] - 16s 10ms/step - loss: 0.5581 - accuracy: 0.8036 - val_loss: 0.6874 - val_accuracy: 0.7733\n",
      "Epoch 37/100\n",
      "1559/1563 [============================>.] - ETA: 0s - loss: 0.5452 - accuracy: 0.8082\n",
      "Epoch 00037: val_accuracy improved from 0.77330 to 0.78090, saving model to best_model.h5\n",
      "1563/1563 [==============================] - 16s 10ms/step - loss: 0.5455 - accuracy: 0.8082 - val_loss: 0.6610 - val_accuracy: 0.7809\n",
      "Epoch 38/100\n",
      "1563/1563 [==============================] - ETA: 0s - loss: 0.5335 - accuracy: 0.8115\n",
      "Epoch 00038: val_accuracy did not improve from 0.78090\n",
      "1563/1563 [==============================] - 16s 10ms/step - loss: 0.5335 - accuracy: 0.8115 - val_loss: 0.6691 - val_accuracy: 0.7779\n",
      "Epoch 39/100\n",
      "1562/1563 [============================>.] - ETA: 0s - loss: 0.5216 - accuracy: 0.8175\n",
      "Epoch 00039: val_accuracy did not improve from 0.78090\n",
      "1563/1563 [==============================] - 16s 10ms/step - loss: 0.5217 - accuracy: 0.8175 - val_loss: 0.7232 - val_accuracy: 0.7576\n",
      "Epoch 40/100\n",
      "1560/1563 [============================>.] - ETA: 0s - loss: 0.5138 - accuracy: 0.8185\n",
      "Epoch 00040: val_accuracy did not improve from 0.78090\n",
      "1563/1563 [==============================] - 16s 10ms/step - loss: 0.5139 - accuracy: 0.8185 - val_loss: 0.6611 - val_accuracy: 0.7789\n",
      "Epoch 41/100\n",
      "1560/1563 [============================>.] - ETA: 0s - loss: 0.5048 - accuracy: 0.8224\n",
      "Epoch 00041: val_accuracy did not improve from 0.78090\n",
      "1563/1563 [==============================] - 16s 10ms/step - loss: 0.5048 - accuracy: 0.8224 - val_loss: 0.7320 - val_accuracy: 0.7603\n",
      "Epoch 42/100\n",
      "1562/1563 [============================>.] - ETA: 0s - loss: 0.4930 - accuracy: 0.8263\n",
      "Epoch 00042: val_accuracy did not improve from 0.78090\n",
      "1563/1563 [==============================] - 16s 10ms/step - loss: 0.4930 - accuracy: 0.8263 - val_loss: 0.6736 - val_accuracy: 0.7784\n",
      "Epoch 43/100\n",
      "1560/1563 [============================>.] - ETA: 0s - loss: 0.4814 - accuracy: 0.8297\n",
      "Epoch 00043: val_accuracy did not improve from 0.78090\n",
      "1563/1563 [==============================] - 16s 10ms/step - loss: 0.4817 - accuracy: 0.8295 - val_loss: 0.7111 - val_accuracy: 0.7685\n",
      "Epoch 44/100\n",
      "1563/1563 [==============================] - ETA: 0s - loss: 0.4756 - accuracy: 0.8327\n",
      "Epoch 00044: val_accuracy did not improve from 0.78090\n",
      "1563/1563 [==============================] - 16s 10ms/step - loss: 0.4756 - accuracy: 0.8327 - val_loss: 0.6627 - val_accuracy: 0.7805\n",
      "Epoch 45/100\n",
      "1563/1563 [==============================] - ETA: 0s - loss: 0.4654 - accuracy: 0.8350\n",
      "Epoch 00045: val_accuracy improved from 0.78090 to 0.78500, saving model to best_model.h5\n",
      "1563/1563 [==============================] - 16s 10ms/step - loss: 0.4654 - accuracy: 0.8350 - val_loss: 0.6737 - val_accuracy: 0.7850\n",
      "Epoch 46/100\n",
      "1563/1563 [==============================] - ETA: 0s - loss: 0.4557 - accuracy: 0.8385\n",
      "Epoch 00046: val_accuracy did not improve from 0.78500\n",
      "1563/1563 [==============================] - 16s 10ms/step - loss: 0.4557 - accuracy: 0.8385 - val_loss: 0.6818 - val_accuracy: 0.7786\n",
      "Epoch 47/100\n",
      "1561/1563 [============================>.] - ETA: 0s - loss: 0.4533 - accuracy: 0.8386\n",
      "Epoch 00047: val_accuracy did not improve from 0.78500\n",
      "1563/1563 [==============================] - 16s 10ms/step - loss: 0.4533 - accuracy: 0.8385 - val_loss: 0.6698 - val_accuracy: 0.7842\n",
      "Epoch 48/100\n",
      "1563/1563 [==============================] - ETA: 0s - loss: 0.4396 - accuracy: 0.8441\n",
      "Epoch 00048: val_accuracy did not improve from 0.78500\n",
      "1563/1563 [==============================] - 16s 10ms/step - loss: 0.4396 - accuracy: 0.8441 - val_loss: 0.6670 - val_accuracy: 0.7820\n",
      "Epoch 49/100\n",
      "1558/1563 [============================>.] - ETA: 0s - loss: 0.4343 - accuracy: 0.8460\n",
      "Epoch 00049: val_accuracy did not improve from 0.78500\n",
      "1563/1563 [==============================] - 16s 10ms/step - loss: 0.4342 - accuracy: 0.8460 - val_loss: 0.7065 - val_accuracy: 0.7813\n",
      "Epoch 50/100\n",
      "1561/1563 [============================>.] - ETA: 0s - loss: 0.4288 - accuracy: 0.8494\n",
      "Epoch 00050: val_accuracy did not improve from 0.78500\n",
      "1563/1563 [==============================] - 16s 10ms/step - loss: 0.4287 - accuracy: 0.8495 - val_loss: 0.6729 - val_accuracy: 0.7811\n",
      "Epoch 51/100\n",
      "1561/1563 [============================>.] - ETA: 0s - loss: 0.4160 - accuracy: 0.8543\n",
      "Epoch 00051: val_accuracy improved from 0.78500 to 0.79060, saving model to best_model.h5\n",
      "1563/1563 [==============================] - 16s 10ms/step - loss: 0.4159 - accuracy: 0.8543 - val_loss: 0.6821 - val_accuracy: 0.7906\n",
      "Epoch 52/100\n",
      "1559/1563 [============================>.] - ETA: 0s - loss: 0.4079 - accuracy: 0.8548\n",
      "Epoch 00052: val_accuracy did not improve from 0.79060\n",
      "1563/1563 [==============================] - 16s 10ms/step - loss: 0.4077 - accuracy: 0.8548 - val_loss: 0.7207 - val_accuracy: 0.7754\n",
      "Epoch 53/100\n",
      "1562/1563 [============================>.] - ETA: 0s - loss: 0.4044 - accuracy: 0.8558\n",
      "Epoch 00053: val_accuracy did not improve from 0.79060\n",
      "1563/1563 [==============================] - 16s 10ms/step - loss: 0.4045 - accuracy: 0.8558 - val_loss: 0.7671 - val_accuracy: 0.7609\n",
      "Epoch 54/100\n",
      "1560/1563 [============================>.] - ETA: 0s - loss: 0.3949 - accuracy: 0.8608\n",
      "Epoch 00054: val_accuracy did not improve from 0.79060\n",
      "1563/1563 [==============================] - 16s 10ms/step - loss: 0.3949 - accuracy: 0.8608 - val_loss: 0.6995 - val_accuracy: 0.7830\n",
      "Epoch 55/100\n",
      "1561/1563 [============================>.] - ETA: 0s - loss: 0.3921 - accuracy: 0.8601\n",
      "Epoch 00055: val_accuracy did not improve from 0.79060\n",
      "1563/1563 [==============================] - 16s 10ms/step - loss: 0.3921 - accuracy: 0.8600 - val_loss: 0.7841 - val_accuracy: 0.7644\n",
      "Epoch 00055: early stopping\n"
     ]
    }
   ],
   "source": [
    "IMAGE_INPUT_NAME = 'image'\n",
    "LABEL_INPUT_NAME = 'label'\n",
    "# base_model = build_base_model(HPARAMS)\n",
    "# base_model.summary()\n",
    "\n",
    "base_model=base_model_func3()\n",
    "base_model.summary()\n",
    "#opt = SGD(lr=0.001, momentum=0.9)\n",
    "es=tf.keras.callbacks.EarlyStopping(monitor='val_loss',mode='min',verbose=1,patience=18)#early stopping\n",
    "mc = tf.keras.callbacks.ModelCheckpoint('best_model.h5', monitor='val_accuracy', mode='max', verbose=1, save_best_only=True)#saving best model\n",
    "base_model.compile(optimizer='sgd', loss='categorical_crossentropy',\n",
    "                   metrics=['accuracy'])\n",
    "first_nn_fitted=base_model.fit(train_data,train_labels_cat,validation_data=(test_data,test_labels_cat), epochs=100,verbose=1,callbacks=[es,mc])\n",
    "\n",
    "# base_model.compile(optimizer='adam', loss='sparse_categorical_crossentropy', metrics=['accuracy'])\n",
    "# history=base_model.fit(train_data,train_labels,validation_data=(test_data,test_labels),epochs=5,verbose=1)"
   ]
  },
  {
   "cell_type": "code",
   "execution_count": 47,
   "metadata": {
    "colab": {
     "base_uri": "https://localhost:8080/",
     "height": 68
    },
    "colab_type": "code",
    "id": "NhekKvww0K1e",
    "outputId": "0e30d2df-35a7-47bd-b61b-1ed77f5f4949"
   },
   "outputs": [
    {
     "name": "stdout",
     "output_type": "stream",
     "text": [
      "Precision: 0.797437\n",
      "Recall: 0.793800\n",
      "F1 score: 0.794948\n"
     ]
    }
   ],
   "source": [
    "# predict probabilities for test set\n",
    "yhat_probs = base_adv_model.predict(test_data, verbose=0)\n",
    "# predict crisp classes for test set\n",
    "yhat_classes=np.argmax(yhat_probs,axis=1)\n",
    "#yhat_classes = base_model.predict_classes(test_data, verbose=0)\n",
    "test_labels_temp = np.array(test_labels, dtype=np.int)\n",
    "\n",
    "precision = precision_score(test_labels_temp.flatten(), yhat_classes.flatten(),average='macro')\n",
    "print('Precision: %f' % precision)\n",
    "# recall: tp / (tp + fn)\n",
    "recall = recall_score(test_labels_temp.flatten(), yhat_classes.flatten(),average='macro')\n",
    "print('Recall: %f' % recall)\n",
    "# f1: 2 tp / (2 tp + fp + fn)\n",
    "f1 = f1_score(test_labels_temp.flatten(), yhat_classes.flatten(),average='macro')\n",
    "print('F1 score: %f' % f1)"
   ]
  },
  {
   "cell_type": "code",
   "execution_count": 0,
   "metadata": {
    "colab": {},
    "colab_type": "code",
    "id": "SjHQNxCssSRW"
   },
   "outputs": [],
   "source": []
  },
  {
   "cell_type": "code",
   "execution_count": 45,
   "metadata": {
    "colab": {
     "base_uri": "https://localhost:8080/",
     "height": 34
    },
    "colab_type": "code",
    "id": "jqBc2z32kgw3",
    "outputId": "8c90098b-7d96-4198-ebf1-3c41c8344cdc"
   },
   "outputs": [
    {
     "name": "stdout",
     "output_type": "stream",
     "text": [
      "50000\n"
     ]
    }
   ],
   "source": [
    "#NEURAL GRAPH MACHINES USING NSL Framework\n",
    "adv_config = nsl.configs.make_adv_reg_config(\n",
    "    multiplier=0.2,\n",
    "    adv_step_size=0.01\n",
    ")\n",
    "#defined config of graph network\n",
    "base_adv_model = base_model_func3()\n",
    "\n",
    "#base_adv_model = build_base_model(HPARAMS)\n",
    "adv_model = nsl.keras.AdversarialRegularization(\n",
    "    base_adv_model,\n",
    "    label_keys=[LABEL_INPUT_NAME],\n",
    "    adv_config=adv_config\n",
    ")\n",
    "#building adversarial nework using base and graphs\n",
    "\n",
    "train_set_for_adv_model = convert_to_dictionaries(train_data,train_labels_cat)\n",
    "test_set_for_adv_model = convert_to_dictionaries(test_data,test_labels_cat)\n",
    "print(len(train_set_for_adv_model[IMAGE_INPUT_NAME]))\n",
    "#print((test_set_for_adv_model))"
   ]
  },
  {
   "cell_type": "code",
   "execution_count": 46,
   "metadata": {
    "colab": {
     "base_uri": "https://localhost:8080/",
     "height": 1000
    },
    "colab_type": "code",
    "id": "mW9SK6WPlZTg",
    "outputId": "bc7dc965-789c-4489-f25b-ab502e65b764"
   },
   "outputs": [
    {
     "name": "stdout",
     "output_type": "stream",
     "text": [
      "Epoch 1/100\n",
      "1560/1563 [============================>.] - ETA: 0s - loss: 2.6130 - categorical_crossentropy: 2.1774 - categorical_accuracy: 0.1815 - adversarial_loss: 2.1776\n",
      "Epoch 00001: val_categorical_accuracy improved from -inf to 0.28080, saving model to best_model.h5\n",
      "1563/1563 [==============================] - 31s 20ms/step - loss: 2.6127 - categorical_crossentropy: 2.1773 - categorical_accuracy: 0.1816 - adversarial_loss: 2.1774 - val_loss: 2.3923 - val_categorical_crossentropy: 1.9929 - val_categorical_accuracy: 0.2808 - val_adversarial_loss: 1.9968\n",
      "Epoch 2/100\n",
      "1561/1563 [============================>.] - ETA: 0s - loss: 2.3238 - categorical_crossentropy: 1.9361 - categorical_accuracy: 0.2823 - adversarial_loss: 1.9383\n",
      "Epoch 00002: val_categorical_accuracy improved from 0.28080 to 0.37210, saving model to best_model.h5\n",
      "1563/1563 [==============================] - 30s 19ms/step - loss: 2.3238 - categorical_crossentropy: 1.9361 - categorical_accuracy: 0.2823 - adversarial_loss: 1.9383 - val_loss: 2.0731 - val_categorical_crossentropy: 1.7266 - val_categorical_accuracy: 0.3721 - val_adversarial_loss: 1.7325\n",
      "Epoch 3/100\n",
      "1561/1563 [============================>.] - ETA: 0s - loss: 2.0490 - categorical_crossentropy: 1.7061 - categorical_accuracy: 0.3727 - adversarial_loss: 1.7146\n",
      "Epoch 00003: val_categorical_accuracy improved from 0.37210 to 0.43660, saving model to best_model.h5\n",
      "1563/1563 [==============================] - 30s 19ms/step - loss: 2.0487 - categorical_crossentropy: 1.7058 - categorical_accuracy: 0.3728 - adversarial_loss: 1.7143 - val_loss: 1.8290 - val_categorical_crossentropy: 1.5224 - val_categorical_accuracy: 0.4366 - val_adversarial_loss: 1.5329\n",
      "Epoch 4/100\n",
      "1560/1563 [============================>.] - ETA: 0s - loss: 1.8285 - categorical_crossentropy: 1.5225 - categorical_accuracy: 0.4431 - adversarial_loss: 1.5302\n",
      "Epoch 00004: val_categorical_accuracy improved from 0.43660 to 0.50260, saving model to best_model.h5\n",
      "1563/1563 [==============================] - 30s 19ms/step - loss: 1.8282 - categorical_crossentropy: 1.5222 - categorical_accuracy: 0.4432 - adversarial_loss: 1.5299 - val_loss: 1.6697 - val_categorical_crossentropy: 1.3893 - val_categorical_accuracy: 0.5026 - val_adversarial_loss: 1.4017\n",
      "Epoch 5/100\n",
      "1560/1563 [============================>.] - ETA: 0s - loss: 1.6802 - categorical_crossentropy: 1.3979 - categorical_accuracy: 0.4930 - adversarial_loss: 1.4115\n",
      "Epoch 00005: val_categorical_accuracy improved from 0.50260 to 0.51230, saving model to best_model.h5\n",
      "1563/1563 [==============================] - 30s 19ms/step - loss: 1.6804 - categorical_crossentropy: 1.3980 - categorical_accuracy: 0.4931 - adversarial_loss: 1.4117 - val_loss: 1.5812 - val_categorical_crossentropy: 1.3153 - val_categorical_accuracy: 0.5123 - val_adversarial_loss: 1.3297\n",
      "Epoch 6/100\n",
      "1560/1563 [============================>.] - ETA: 0s - loss: 1.5775 - categorical_crossentropy: 1.3127 - categorical_accuracy: 0.5275 - adversarial_loss: 1.3242\n",
      "Epoch 00006: val_categorical_accuracy improved from 0.51230 to 0.56550, saving model to best_model.h5\n",
      "1563/1563 [==============================] - 30s 19ms/step - loss: 1.5774 - categorical_crossentropy: 1.3125 - categorical_accuracy: 0.5276 - adversarial_loss: 1.3242 - val_loss: 1.4544 - val_categorical_crossentropy: 1.2090 - val_categorical_accuracy: 0.5655 - val_adversarial_loss: 1.2267\n",
      "Epoch 7/100\n",
      "1560/1563 [============================>.] - ETA: 0s - loss: 1.4940 - categorical_crossentropy: 1.2421 - categorical_accuracy: 0.5547 - adversarial_loss: 1.2594\n",
      "Epoch 00007: val_categorical_accuracy improved from 0.56550 to 0.59210, saving model to best_model.h5\n",
      "1563/1563 [==============================] - 30s 19ms/step - loss: 1.4941 - categorical_crossentropy: 1.2422 - categorical_accuracy: 0.5548 - adversarial_loss: 1.2596 - val_loss: 1.3853 - val_categorical_crossentropy: 1.1512 - val_categorical_accuracy: 0.5921 - val_adversarial_loss: 1.1707\n",
      "Epoch 8/100\n",
      "1561/1563 [============================>.] - ETA: 0s - loss: 1.4207 - categorical_crossentropy: 1.1810 - categorical_accuracy: 0.5793 - adversarial_loss: 1.1985\n",
      "Epoch 00008: val_categorical_accuracy improved from 0.59210 to 0.59470, saving model to best_model.h5\n",
      "1563/1563 [==============================] - 30s 19ms/step - loss: 1.4213 - categorical_crossentropy: 1.1815 - categorical_accuracy: 0.5792 - adversarial_loss: 1.1990 - val_loss: 1.3772 - val_categorical_crossentropy: 1.1444 - val_categorical_accuracy: 0.5947 - val_adversarial_loss: 1.1642\n",
      "Epoch 9/100\n",
      "1560/1563 [============================>.] - ETA: 0s - loss: 1.3570 - categorical_crossentropy: 1.1276 - categorical_accuracy: 0.6003 - adversarial_loss: 1.1469\n",
      "Epoch 00009: val_categorical_accuracy improved from 0.59470 to 0.63880, saving model to best_model.h5\n",
      "1563/1563 [==============================] - 30s 19ms/step - loss: 1.3577 - categorical_crossentropy: 1.1282 - categorical_accuracy: 0.6001 - adversarial_loss: 1.1474 - val_loss: 1.2419 - val_categorical_crossentropy: 1.0313 - val_categorical_accuracy: 0.6388 - val_adversarial_loss: 1.0534\n",
      "Epoch 10/100\n",
      "1562/1563 [============================>.] - ETA: 0s - loss: 1.2936 - categorical_crossentropy: 1.0748 - categorical_accuracy: 0.6215 - adversarial_loss: 1.0942\n",
      "Epoch 00010: val_categorical_accuracy did not improve from 0.63880\n",
      "1563/1563 [==============================] - 30s 19ms/step - loss: 1.2937 - categorical_crossentropy: 1.0748 - categorical_accuracy: 0.6216 - adversarial_loss: 1.0942 - val_loss: 1.2867 - val_categorical_crossentropy: 1.0676 - val_categorical_accuracy: 0.6197 - val_adversarial_loss: 1.0955\n",
      "Epoch 11/100\n",
      "1562/1563 [============================>.] - ETA: 0s - loss: 1.2403 - categorical_crossentropy: 1.0310 - categorical_accuracy: 0.6370 - adversarial_loss: 1.0464\n",
      "Epoch 00011: val_categorical_accuracy improved from 0.63880 to 0.66380, saving model to best_model.h5\n",
      "1563/1563 [==============================] - 30s 19ms/step - loss: 1.2402 - categorical_crossentropy: 1.0310 - categorical_accuracy: 0.6369 - adversarial_loss: 1.0464 - val_loss: 1.1639 - val_categorical_crossentropy: 0.9653 - val_categorical_accuracy: 0.6638 - val_adversarial_loss: 0.9932\n",
      "Epoch 12/100\n",
      "1562/1563 [============================>.] - ETA: 0s - loss: 1.1885 - categorical_crossentropy: 0.9867 - categorical_accuracy: 0.6522 - adversarial_loss: 1.0091\n",
      "Epoch 00012: val_categorical_accuracy improved from 0.66380 to 0.67110, saving model to best_model.h5\n",
      "1563/1563 [==============================] - 30s 19ms/step - loss: 1.1886 - categorical_crossentropy: 0.9868 - categorical_accuracy: 0.6522 - adversarial_loss: 1.0093 - val_loss: 1.1176 - val_categorical_crossentropy: 0.9266 - val_categorical_accuracy: 0.6711 - val_adversarial_loss: 0.9549\n",
      "Epoch 13/100\n",
      "1562/1563 [============================>.] - ETA: 0s - loss: 1.1473 - categorical_crossentropy: 0.9520 - categorical_accuracy: 0.6647 - adversarial_loss: 0.9763\n",
      "Epoch 00013: val_categorical_accuracy improved from 0.67110 to 0.68920, saving model to best_model.h5\n",
      "1563/1563 [==============================] - 30s 19ms/step - loss: 1.1470 - categorical_crossentropy: 0.9518 - categorical_accuracy: 0.6647 - adversarial_loss: 0.9760 - val_loss: 1.0738 - val_categorical_crossentropy: 0.8896 - val_categorical_accuracy: 0.6892 - val_adversarial_loss: 0.9211\n",
      "Epoch 14/100\n",
      "1562/1563 [============================>.] - ETA: 0s - loss: 1.1046 - categorical_crossentropy: 0.9173 - categorical_accuracy: 0.6771 - adversarial_loss: 0.9366\n",
      "Epoch 00014: val_categorical_accuracy did not improve from 0.68920\n",
      "1563/1563 [==============================] - 31s 20ms/step - loss: 1.1049 - categorical_crossentropy: 0.9175 - categorical_accuracy: 0.6770 - adversarial_loss: 0.9368 - val_loss: 1.0785 - val_categorical_crossentropy: 0.8932 - val_categorical_accuracy: 0.6866 - val_adversarial_loss: 0.9267\n",
      "Epoch 15/100\n",
      "1560/1563 [============================>.] - ETA: 0s - loss: 1.0691 - categorical_crossentropy: 0.8882 - categorical_accuracy: 0.6868 - adversarial_loss: 0.9045\n",
      "Epoch 00015: val_categorical_accuracy improved from 0.68920 to 0.70290, saving model to best_model.h5\n",
      "1563/1563 [==============================] - 30s 19ms/step - loss: 1.0692 - categorical_crossentropy: 0.8883 - categorical_accuracy: 0.6867 - adversarial_loss: 0.9047 - val_loss: 1.0297 - val_categorical_crossentropy: 0.8526 - val_categorical_accuracy: 0.7029 - val_adversarial_loss: 0.8855\n",
      "Epoch 16/100\n",
      "1562/1563 [============================>.] - ETA: 0s - loss: 1.0279 - categorical_crossentropy: 0.8525 - categorical_accuracy: 0.7014 - adversarial_loss: 0.8769\n",
      "Epoch 00016: val_categorical_accuracy did not improve from 0.70290\n",
      "1563/1563 [==============================] - 30s 20ms/step - loss: 1.0279 - categorical_crossentropy: 0.8525 - categorical_accuracy: 0.7014 - adversarial_loss: 0.8768 - val_loss: 1.0778 - val_categorical_crossentropy: 0.8921 - val_categorical_accuracy: 0.6860 - val_adversarial_loss: 0.9282\n",
      "Epoch 17/100\n",
      "1560/1563 [============================>.] - ETA: 0s - loss: 0.9860 - categorical_crossentropy: 0.8175 - categorical_accuracy: 0.7141 - adversarial_loss: 0.8422\n",
      "Epoch 00017: val_categorical_accuracy improved from 0.70290 to 0.71560, saving model to best_model.h5\n",
      "1563/1563 [==============================] - 31s 20ms/step - loss: 0.9859 - categorical_crossentropy: 0.8175 - categorical_accuracy: 0.7140 - adversarial_loss: 0.8419 - val_loss: 0.9991 - val_categorical_crossentropy: 0.8266 - val_categorical_accuracy: 0.7156 - val_adversarial_loss: 0.8626\n",
      "Epoch 18/100\n",
      "1563/1563 [==============================] - ETA: 0s - loss: 0.9606 - categorical_crossentropy: 0.7964 - categorical_accuracy: 0.7208 - adversarial_loss: 0.8213\n",
      "Epoch 00018: val_categorical_accuracy improved from 0.71560 to 0.72050, saving model to best_model.h5\n",
      "1563/1563 [==============================] - 31s 20ms/step - loss: 0.9606 - categorical_crossentropy: 0.7964 - categorical_accuracy: 0.7208 - adversarial_loss: 0.8213 - val_loss: 0.9784 - val_categorical_crossentropy: 0.8091 - val_categorical_accuracy: 0.7205 - val_adversarial_loss: 0.8465\n",
      "Epoch 19/100\n",
      "1561/1563 [============================>.] - ETA: 0s - loss: 0.9325 - categorical_crossentropy: 0.7733 - categorical_accuracy: 0.7292 - adversarial_loss: 0.7956\n",
      "Epoch 00019: val_categorical_accuracy improved from 0.72050 to 0.73500, saving model to best_model.h5\n",
      "1563/1563 [==============================] - 31s 20ms/step - loss: 0.9323 - categorical_crossentropy: 0.7732 - categorical_accuracy: 0.7293 - adversarial_loss: 0.7955 - val_loss: 0.9296 - val_categorical_crossentropy: 0.7683 - val_categorical_accuracy: 0.7350 - val_adversarial_loss: 0.8069\n",
      "Epoch 20/100\n",
      "1561/1563 [============================>.] - ETA: 0s - loss: 0.9044 - categorical_crossentropy: 0.7494 - categorical_accuracy: 0.7376 - adversarial_loss: 0.7750\n",
      "Epoch 00020: val_categorical_accuracy did not improve from 0.73500\n",
      "1563/1563 [==============================] - 30s 19ms/step - loss: 0.9043 - categorical_crossentropy: 0.7494 - categorical_accuracy: 0.7376 - adversarial_loss: 0.7748 - val_loss: 0.9414 - val_categorical_crossentropy: 0.7779 - val_categorical_accuracy: 0.7333 - val_adversarial_loss: 0.8175\n",
      "Epoch 21/100\n",
      "1561/1563 [============================>.] - ETA: 0s - loss: 0.8691 - categorical_crossentropy: 0.7197 - categorical_accuracy: 0.7489 - adversarial_loss: 0.7468\n",
      "Epoch 00021: val_categorical_accuracy improved from 0.73500 to 0.73980, saving model to best_model.h5\n",
      "1563/1563 [==============================] - 31s 20ms/step - loss: 0.8692 - categorical_crossentropy: 0.7198 - categorical_accuracy: 0.7488 - adversarial_loss: 0.7470 - val_loss: 0.9133 - val_categorical_crossentropy: 0.7545 - val_categorical_accuracy: 0.7398 - val_adversarial_loss: 0.7940\n",
      "Epoch 22/100\n",
      "1560/1563 [============================>.] - ETA: 0s - loss: 0.8451 - categorical_crossentropy: 0.7000 - categorical_accuracy: 0.7564 - adversarial_loss: 0.7256\n",
      "Epoch 00022: val_categorical_accuracy improved from 0.73980 to 0.74130, saving model to best_model.h5\n",
      "1563/1563 [==============================] - 31s 20ms/step - loss: 0.8453 - categorical_crossentropy: 0.7001 - categorical_accuracy: 0.7563 - adversarial_loss: 0.7257 - val_loss: 0.9117 - val_categorical_crossentropy: 0.7530 - val_categorical_accuracy: 0.7413 - val_adversarial_loss: 0.7937\n",
      "Epoch 23/100\n",
      "1561/1563 [============================>.] - ETA: 0s - loss: 0.8211 - categorical_crossentropy: 0.6798 - categorical_accuracy: 0.7637 - adversarial_loss: 0.7069\n",
      "Epoch 00023: val_categorical_accuracy improved from 0.74130 to 0.75340, saving model to best_model.h5\n",
      "1563/1563 [==============================] - 31s 20ms/step - loss: 0.8210 - categorical_crossentropy: 0.6797 - categorical_accuracy: 0.7636 - adversarial_loss: 0.7067 - val_loss: 0.8682 - val_categorical_crossentropy: 0.7166 - val_categorical_accuracy: 0.7534 - val_adversarial_loss: 0.7579\n",
      "Epoch 24/100\n",
      "1562/1563 [============================>.] - ETA: 0s - loss: 0.7992 - categorical_crossentropy: 0.6615 - categorical_accuracy: 0.7695 - adversarial_loss: 0.6885\n",
      "Epoch 00024: val_categorical_accuracy improved from 0.75340 to 0.75440, saving model to best_model.h5\n",
      "1563/1563 [==============================] - 31s 20ms/step - loss: 0.7990 - categorical_crossentropy: 0.6613 - categorical_accuracy: 0.7695 - adversarial_loss: 0.6882 - val_loss: 0.8768 - val_categorical_crossentropy: 0.7238 - val_categorical_accuracy: 0.7544 - val_adversarial_loss: 0.7653\n",
      "Epoch 25/100\n",
      "1562/1563 [============================>.] - ETA: 0s - loss: 0.7770 - categorical_crossentropy: 0.6435 - categorical_accuracy: 0.7743 - adversarial_loss: 0.6678\n",
      "Epoch 00025: val_categorical_accuracy did not improve from 0.75440\n",
      "1563/1563 [==============================] - 31s 20ms/step - loss: 0.7768 - categorical_crossentropy: 0.6433 - categorical_accuracy: 0.7744 - adversarial_loss: 0.6676 - val_loss: 0.9003 - val_categorical_crossentropy: 0.7428 - val_categorical_accuracy: 0.7459 - val_adversarial_loss: 0.7877\n",
      "Epoch 26/100\n",
      "1561/1563 [============================>.] - ETA: 0s - loss: 0.7543 - categorical_crossentropy: 0.6241 - categorical_accuracy: 0.7819 - adversarial_loss: 0.6509\n",
      "Epoch 00026: val_categorical_accuracy did not improve from 0.75440\n",
      "1563/1563 [==============================] - 30s 19ms/step - loss: 0.7542 - categorical_crossentropy: 0.6240 - categorical_accuracy: 0.7819 - adversarial_loss: 0.6510 - val_loss: 0.8660 - val_categorical_crossentropy: 0.7142 - val_categorical_accuracy: 0.7540 - val_adversarial_loss: 0.7591\n",
      "Epoch 27/100\n",
      "1562/1563 [============================>.] - ETA: 0s - loss: 0.7354 - categorical_crossentropy: 0.6083 - categorical_accuracy: 0.7869 - adversarial_loss: 0.6353\n",
      "Epoch 00027: val_categorical_accuracy did not improve from 0.75440\n",
      "1563/1563 [==============================] - 31s 20ms/step - loss: 0.7356 - categorical_crossentropy: 0.6085 - categorical_accuracy: 0.7869 - adversarial_loss: 0.6356 - val_loss: 0.8934 - val_categorical_crossentropy: 0.7368 - val_categorical_accuracy: 0.7496 - val_adversarial_loss: 0.7829\n",
      "Epoch 28/100\n",
      "1562/1563 [============================>.] - ETA: 0s - loss: 0.7158 - categorical_crossentropy: 0.5926 - categorical_accuracy: 0.7923 - adversarial_loss: 0.6157\n",
      "Epoch 00028: val_categorical_accuracy improved from 0.75440 to 0.76490, saving model to best_model.h5\n",
      "1563/1563 [==============================] - 31s 20ms/step - loss: 0.7156 - categorical_crossentropy: 0.5925 - categorical_accuracy: 0.7923 - adversarial_loss: 0.6155 - val_loss: 0.8620 - val_categorical_crossentropy: 0.7106 - val_categorical_accuracy: 0.7649 - val_adversarial_loss: 0.7571\n",
      "Epoch 29/100\n",
      "1560/1563 [============================>.] - ETA: 0s - loss: 0.6982 - categorical_crossentropy: 0.5778 - categorical_accuracy: 0.7978 - adversarial_loss: 0.6023\n",
      "Epoch 00029: val_categorical_accuracy did not improve from 0.76490\n",
      "1563/1563 [==============================] - 31s 20ms/step - loss: 0.6978 - categorical_crossentropy: 0.5774 - categorical_accuracy: 0.7979 - adversarial_loss: 0.6020 - val_loss: 0.8539 - val_categorical_crossentropy: 0.7033 - val_categorical_accuracy: 0.7626 - val_adversarial_loss: 0.7529\n",
      "Epoch 30/100\n",
      "1562/1563 [============================>.] - ETA: 0s - loss: 0.6823 - categorical_crossentropy: 0.5650 - categorical_accuracy: 0.8017 - adversarial_loss: 0.5868\n",
      "Epoch 00030: val_categorical_accuracy did not improve from 0.76490\n",
      "1563/1563 [==============================] - 31s 20ms/step - loss: 0.6824 - categorical_crossentropy: 0.5650 - categorical_accuracy: 0.8017 - adversarial_loss: 0.5868 - val_loss: 0.8445 - val_categorical_crossentropy: 0.6959 - val_categorical_accuracy: 0.7631 - val_adversarial_loss: 0.7434\n",
      "Epoch 31/100\n",
      "1562/1563 [============================>.] - ETA: 0s - loss: 0.6625 - categorical_crossentropy: 0.5483 - categorical_accuracy: 0.8070 - adversarial_loss: 0.5706\n",
      "Epoch 00031: val_categorical_accuracy improved from 0.76490 to 0.77050, saving model to best_model.h5\n",
      "1563/1563 [==============================] - 31s 20ms/step - loss: 0.6625 - categorical_crossentropy: 0.5484 - categorical_accuracy: 0.8070 - adversarial_loss: 0.5705 - val_loss: 0.8253 - val_categorical_crossentropy: 0.6797 - val_categorical_accuracy: 0.7705 - val_adversarial_loss: 0.7281\n",
      "Epoch 32/100\n",
      "1561/1563 [============================>.] - ETA: 0s - loss: 0.6440 - categorical_crossentropy: 0.5325 - categorical_accuracy: 0.8120 - adversarial_loss: 0.5573\n",
      "Epoch 00032: val_categorical_accuracy improved from 0.77050 to 0.77400, saving model to best_model.h5\n",
      "1563/1563 [==============================] - 31s 20ms/step - loss: 0.6439 - categorical_crossentropy: 0.5325 - categorical_accuracy: 0.8120 - adversarial_loss: 0.5571 - val_loss: 0.8163 - val_categorical_crossentropy: 0.6721 - val_categorical_accuracy: 0.7740 - val_adversarial_loss: 0.7209\n",
      "Epoch 33/100\n",
      "1562/1563 [============================>.] - ETA: 0s - loss: 0.6303 - categorical_crossentropy: 0.5213 - categorical_accuracy: 0.8151 - adversarial_loss: 0.5450\n",
      "Epoch 00033: val_categorical_accuracy did not improve from 0.77400\n",
      "1563/1563 [==============================] - 30s 19ms/step - loss: 0.6305 - categorical_crossentropy: 0.5215 - categorical_accuracy: 0.8151 - adversarial_loss: 0.5451 - val_loss: 0.8256 - val_categorical_crossentropy: 0.6794 - val_categorical_accuracy: 0.7740 - val_adversarial_loss: 0.7310\n",
      "Epoch 34/100\n",
      "1561/1563 [============================>.] - ETA: 0s - loss: 0.6161 - categorical_crossentropy: 0.5100 - categorical_accuracy: 0.8210 - adversarial_loss: 0.5302\n",
      "Epoch 00034: val_categorical_accuracy did not improve from 0.77400\n",
      "1563/1563 [==============================] - 31s 20ms/step - loss: 0.6161 - categorical_crossentropy: 0.5101 - categorical_accuracy: 0.8210 - adversarial_loss: 0.5301 - val_loss: 0.8610 - val_categorical_crossentropy: 0.7088 - val_categorical_accuracy: 0.7642 - val_adversarial_loss: 0.7611\n",
      "Epoch 35/100\n",
      "1561/1563 [============================>.] - ETA: 0s - loss: 0.6005 - categorical_crossentropy: 0.4963 - categorical_accuracy: 0.8253 - adversarial_loss: 0.5211\n",
      "Epoch 00035: val_categorical_accuracy improved from 0.77400 to 0.77670, saving model to best_model.h5\n",
      "1563/1563 [==============================] - 31s 20ms/step - loss: 0.6009 - categorical_crossentropy: 0.4967 - categorical_accuracy: 0.8252 - adversarial_loss: 0.5213 - val_loss: 0.8194 - val_categorical_crossentropy: 0.6742 - val_categorical_accuracy: 0.7767 - val_adversarial_loss: 0.7256\n",
      "Epoch 36/100\n",
      "1562/1563 [============================>.] - ETA: 0s - loss: 0.5916 - categorical_crossentropy: 0.4891 - categorical_accuracy: 0.8284 - adversarial_loss: 0.5124\n",
      "Epoch 00036: val_categorical_accuracy did not improve from 0.77670\n",
      "1563/1563 [==============================] - 31s 20ms/step - loss: 0.5914 - categorical_crossentropy: 0.4889 - categorical_accuracy: 0.8285 - adversarial_loss: 0.5123 - val_loss: 0.8236 - val_categorical_crossentropy: 0.6776 - val_categorical_accuracy: 0.7766 - val_adversarial_loss: 0.7301\n",
      "Epoch 37/100\n",
      "1562/1563 [============================>.] - ETA: 0s - loss: 0.5723 - categorical_crossentropy: 0.4729 - categorical_accuracy: 0.8359 - adversarial_loss: 0.4967\n",
      "Epoch 00037: val_categorical_accuracy improved from 0.77670 to 0.78750, saving model to best_model.h5\n",
      "1563/1563 [==============================] - 31s 20ms/step - loss: 0.5721 - categorical_crossentropy: 0.4728 - categorical_accuracy: 0.8359 - adversarial_loss: 0.4966 - val_loss: 0.7890 - val_categorical_crossentropy: 0.6487 - val_categorical_accuracy: 0.7875 - val_adversarial_loss: 0.7017\n",
      "Epoch 38/100\n",
      "1561/1563 [============================>.] - ETA: 0s - loss: 0.5601 - categorical_crossentropy: 0.4624 - categorical_accuracy: 0.8371 - adversarial_loss: 0.4882\n",
      "Epoch 00038: val_categorical_accuracy did not improve from 0.78750\n",
      "1563/1563 [==============================] - 31s 20ms/step - loss: 0.5603 - categorical_crossentropy: 0.4626 - categorical_accuracy: 0.8371 - adversarial_loss: 0.4883 - val_loss: 0.8319 - val_categorical_crossentropy: 0.6839 - val_categorical_accuracy: 0.7797 - val_adversarial_loss: 0.7398\n",
      "Epoch 39/100\n",
      "1561/1563 [============================>.] - ETA: 0s - loss: 0.5477 - categorical_crossentropy: 0.4526 - categorical_accuracy: 0.8399 - adversarial_loss: 0.4759\n",
      "Epoch 00039: val_categorical_accuracy did not improve from 0.78750\n",
      "1563/1563 [==============================] - 31s 20ms/step - loss: 0.5475 - categorical_crossentropy: 0.4524 - categorical_accuracy: 0.8400 - adversarial_loss: 0.4758 - val_loss: 0.8114 - val_categorical_crossentropy: 0.6669 - val_categorical_accuracy: 0.7872 - val_adversarial_loss: 0.7228\n",
      "Epoch 40/100\n",
      "1562/1563 [============================>.] - ETA: 0s - loss: 0.5303 - categorical_crossentropy: 0.4381 - categorical_accuracy: 0.8452 - adversarial_loss: 0.4612\n",
      "Epoch 00040: val_categorical_accuracy did not improve from 0.78750\n",
      "1563/1563 [==============================] - 31s 20ms/step - loss: 0.5303 - categorical_crossentropy: 0.4381 - categorical_accuracy: 0.8452 - adversarial_loss: 0.4613 - val_loss: 0.8371 - val_categorical_crossentropy: 0.6879 - val_categorical_accuracy: 0.7804 - val_adversarial_loss: 0.7458\n",
      "Epoch 41/100\n",
      "1561/1563 [============================>.] - ETA: 0s - loss: 0.5212 - categorical_crossentropy: 0.4303 - categorical_accuracy: 0.8496 - adversarial_loss: 0.4544\n",
      "Epoch 00041: val_categorical_accuracy did not improve from 0.78750\n",
      "1563/1563 [==============================] - 31s 20ms/step - loss: 0.5209 - categorical_crossentropy: 0.4300 - categorical_accuracy: 0.8497 - adversarial_loss: 0.4543 - val_loss: 0.8151 - val_categorical_crossentropy: 0.6694 - val_categorical_accuracy: 0.7857 - val_adversarial_loss: 0.7285\n",
      "Epoch 42/100\n",
      "1562/1563 [============================>.] - ETA: 0s - loss: 0.5135 - categorical_crossentropy: 0.4234 - categorical_accuracy: 0.8502 - adversarial_loss: 0.4507\n",
      "Epoch 00042: val_categorical_accuracy improved from 0.78750 to 0.79210, saving model to best_model.h5\n",
      "1563/1563 [==============================] - 31s 20ms/step - loss: 0.5134 - categorical_crossentropy: 0.4233 - categorical_accuracy: 0.8502 - adversarial_loss: 0.4507 - val_loss: 0.8182 - val_categorical_crossentropy: 0.6720 - val_categorical_accuracy: 0.7921 - val_adversarial_loss: 0.7308\n",
      "Epoch 43/100\n",
      "1560/1563 [============================>.] - ETA: 0s - loss: 0.5048 - categorical_crossentropy: 0.4178 - categorical_accuracy: 0.8533 - adversarial_loss: 0.4351\n",
      "Epoch 00043: val_categorical_accuracy did not improve from 0.79210\n",
      "1563/1563 [==============================] - 31s 20ms/step - loss: 0.5050 - categorical_crossentropy: 0.4180 - categorical_accuracy: 0.8532 - adversarial_loss: 0.4353 - val_loss: 0.9716 - val_categorical_crossentropy: 0.7984 - val_categorical_accuracy: 0.7599 - val_adversarial_loss: 0.8664\n",
      "Epoch 44/100\n",
      "1562/1563 [============================>.] - ETA: 0s - loss: 0.4880 - categorical_crossentropy: 0.4031 - categorical_accuracy: 0.8572 - adversarial_loss: 0.4247\n",
      "Epoch 00044: val_categorical_accuracy did not improve from 0.79210\n",
      "1563/1563 [==============================] - 31s 20ms/step - loss: 0.4880 - categorical_crossentropy: 0.4031 - categorical_accuracy: 0.8572 - adversarial_loss: 0.4246 - val_loss: 0.8354 - val_categorical_crossentropy: 0.6859 - val_categorical_accuracy: 0.7855 - val_adversarial_loss: 0.7472\n",
      "Epoch 45/100\n",
      "1562/1563 [============================>.] - ETA: 0s - loss: 0.4816 - categorical_crossentropy: 0.3973 - categorical_accuracy: 0.8592 - adversarial_loss: 0.4215\n",
      "Epoch 00045: val_categorical_accuracy did not improve from 0.79210\n",
      "1563/1563 [==============================] - 31s 20ms/step - loss: 0.4816 - categorical_crossentropy: 0.3974 - categorical_accuracy: 0.8592 - adversarial_loss: 0.4213 - val_loss: 0.8259 - val_categorical_crossentropy: 0.6778 - val_categorical_accuracy: 0.7905 - val_adversarial_loss: 0.7406\n",
      "Epoch 46/100\n",
      "1561/1563 [============================>.] - ETA: 0s - loss: 0.4721 - categorical_crossentropy: 0.3905 - categorical_accuracy: 0.8618 - adversarial_loss: 0.4084\n",
      "Epoch 00046: val_categorical_accuracy did not improve from 0.79210\n",
      "1563/1563 [==============================] - 31s 20ms/step - loss: 0.4722 - categorical_crossentropy: 0.3905 - categorical_accuracy: 0.8618 - adversarial_loss: 0.4084 - val_loss: 0.8172 - val_categorical_crossentropy: 0.6705 - val_categorical_accuracy: 0.7921 - val_adversarial_loss: 0.7335\n",
      "Epoch 47/100\n",
      "1561/1563 [============================>.] - ETA: 0s - loss: 0.4622 - categorical_crossentropy: 0.3816 - categorical_accuracy: 0.8663 - adversarial_loss: 0.4027\n",
      "Epoch 00047: val_categorical_accuracy did not improve from 0.79210\n",
      "1563/1563 [==============================] - 31s 20ms/step - loss: 0.4624 - categorical_crossentropy: 0.3818 - categorical_accuracy: 0.8662 - adversarial_loss: 0.4031 - val_loss: 0.8418 - val_categorical_crossentropy: 0.6908 - val_categorical_accuracy: 0.7866 - val_adversarial_loss: 0.7549\n",
      "Epoch 48/100\n",
      "1562/1563 [============================>.] - ETA: 0s - loss: 0.4460 - categorical_crossentropy: 0.3668 - categorical_accuracy: 0.8697 - adversarial_loss: 0.3960\n",
      "Epoch 00048: val_categorical_accuracy did not improve from 0.79210\n",
      "1563/1563 [==============================] - 31s 20ms/step - loss: 0.4461 - categorical_crossentropy: 0.3668 - categorical_accuracy: 0.8697 - adversarial_loss: 0.3961 - val_loss: 0.8928 - val_categorical_crossentropy: 0.7319 - val_categorical_accuracy: 0.7818 - val_adversarial_loss: 0.8046\n",
      "Epoch 49/100\n",
      "1560/1563 [============================>.] - ETA: 0s - loss: 0.4472 - categorical_crossentropy: 0.3695 - categorical_accuracy: 0.8677 - adversarial_loss: 0.3881\n",
      "Epoch 00049: val_categorical_accuracy did not improve from 0.79210\n",
      "1563/1563 [==============================] - 32s 20ms/step - loss: 0.4472 - categorical_crossentropy: 0.3695 - categorical_accuracy: 0.8676 - adversarial_loss: 0.3883 - val_loss: 0.8460 - val_categorical_crossentropy: 0.6939 - val_categorical_accuracy: 0.7831 - val_adversarial_loss: 0.7604\n",
      "Epoch 50/100\n",
      "1560/1563 [============================>.] - ETA: 0s - loss: 0.4354 - categorical_crossentropy: 0.3591 - categorical_accuracy: 0.8727 - adversarial_loss: 0.3815\n",
      "Epoch 00050: val_categorical_accuracy did not improve from 0.79210\n",
      "1563/1563 [==============================] - 31s 20ms/step - loss: 0.4352 - categorical_crossentropy: 0.3590 - categorical_accuracy: 0.8727 - adversarial_loss: 0.3813 - val_loss: 0.8301 - val_categorical_crossentropy: 0.6807 - val_categorical_accuracy: 0.7906 - val_adversarial_loss: 0.7469\n",
      "Epoch 51/100\n",
      "1561/1563 [============================>.] - ETA: 0s - loss: 0.4231 - categorical_crossentropy: 0.3487 - categorical_accuracy: 0.8757 - adversarial_loss: 0.3720\n",
      "Epoch 00051: val_categorical_accuracy improved from 0.79210 to 0.79380, saving model to best_model.h5\n",
      "1563/1563 [==============================] - 31s 20ms/step - loss: 0.4230 - categorical_crossentropy: 0.3486 - categorical_accuracy: 0.8757 - adversarial_loss: 0.3719 - val_loss: 0.8438 - val_categorical_crossentropy: 0.6919 - val_categorical_accuracy: 0.7938 - val_adversarial_loss: 0.7595\n",
      "Epoch 52/100\n",
      "1561/1563 [============================>.] - ETA: 0s - loss: 0.4123 - categorical_crossentropy: 0.3400 - categorical_accuracy: 0.8806 - adversarial_loss: 0.3617\n",
      "Epoch 00052: val_categorical_accuracy did not improve from 0.79380\n",
      "1563/1563 [==============================] - 31s 20ms/step - loss: 0.4125 - categorical_crossentropy: 0.3402 - categorical_accuracy: 0.8806 - adversarial_loss: 0.3617 - val_loss: 0.8826 - val_categorical_crossentropy: 0.7235 - val_categorical_accuracy: 0.7871 - val_adversarial_loss: 0.7954\n",
      "Epoch 53/100\n",
      "1561/1563 [============================>.] - ETA: 0s - loss: 0.4104 - categorical_crossentropy: 0.3379 - categorical_accuracy: 0.8799 - adversarial_loss: 0.3626\n",
      "Epoch 00053: val_categorical_accuracy did not improve from 0.79380\n",
      "1563/1563 [==============================] - 31s 20ms/step - loss: 0.4105 - categorical_crossentropy: 0.3380 - categorical_accuracy: 0.8798 - adversarial_loss: 0.3627 - val_loss: 0.8419 - val_categorical_crossentropy: 0.6900 - val_categorical_accuracy: 0.7935 - val_adversarial_loss: 0.7599\n",
      "Epoch 54/100\n",
      "1563/1563 [==============================] - ETA: 0s - loss: 0.3987 - categorical_crossentropy: 0.3283 - categorical_accuracy: 0.8827 - adversarial_loss: 0.3522\n",
      "Epoch 00054: val_categorical_accuracy did not improve from 0.79380\n",
      "1563/1563 [==============================] - 31s 20ms/step - loss: 0.3987 - categorical_crossentropy: 0.3283 - categorical_accuracy: 0.8827 - adversarial_loss: 0.3522 - val_loss: 0.8585 - val_categorical_crossentropy: 0.7031 - val_categorical_accuracy: 0.7926 - val_adversarial_loss: 0.7769\n",
      "Epoch 55/100\n",
      "1561/1563 [============================>.] - ETA: 0s - loss: 0.3925 - categorical_crossentropy: 0.3235 - categorical_accuracy: 0.8849 - adversarial_loss: 0.3455\n",
      "Epoch 00055: val_categorical_accuracy did not improve from 0.79380\n",
      "1563/1563 [==============================] - 31s 20ms/step - loss: 0.3924 - categorical_crossentropy: 0.3234 - categorical_accuracy: 0.8850 - adversarial_loss: 0.3453 - val_loss: 0.8574 - val_categorical_crossentropy: 0.7023 - val_categorical_accuracy: 0.7938 - val_adversarial_loss: 0.7754\n",
      "Epoch 00055: early stopping\n"
     ]
    }
   ],
   "source": [
    "#Training adversarial network \n",
    "# adv_model.compile(optimizer='adam', loss='sparse_categorical_crossentropy',\n",
    "#                    metrics=['acc'])\n",
    "\n",
    "es=tf.keras.callbacks.EarlyStopping(monitor='val_loss',mode='min',verbose=1,patience=18)\n",
    "mc = tf.keras.callbacks.ModelCheckpoint('best_model.h5', monitor='val_categorical_accuracy', mode='max', verbose=1, save_best_only=True)\n",
    "adv_model.compile(optimizer='sgd', loss='categorical_crossentropy', metrics=['accuracy'])\n",
    "second_nn_fitted=adv_model.fit(train_set_for_adv_model,validation_data=test_set_for_adv_model, epochs=100,callbacks=[es,mc])\n",
    "\n",
    "# train_labels_cat=np.array(train_labels_cat,dtype='float32')\n",
    "# adv_model.compile(optimizer='adam',loss='categorical_crossentropy',metrics=['acc'])\n",
    "# new_model=adv_model.fit({'feature':train_data,'label':train_labels_cat},epochs=10,verbose=1)\n"
   ]
  },
  {
   "cell_type": "code",
   "execution_count": 51,
   "metadata": {
    "colab": {
     "base_uri": "https://localhost:8080/",
     "height": 68
    },
    "colab_type": "code",
    "id": "mZo28yMfmIJ1",
    "outputId": "a0da5d69-d269-4f6a-b7d1-a97fc103d49d"
   },
   "outputs": [
    {
     "name": "stdout",
     "output_type": "stream",
     "text": [
      "313/313 [==============================] - 4s 14ms/step - loss: 0.8574 - categorical_crossentropy: 0.7023 - categorical_accuracy: 0.7938 - adversarial_loss: 0.7754\n",
      "\n",
      "accuracy: 0.7937999963760376\n"
     ]
    }
   ],
   "source": [
    "results = adv_model.evaluate(test_set_for_adv_model)\n",
    "named_results = dict(zip(adv_model.metrics_names, results))\n",
    "print('\\naccuracy:', named_results['categorical_accuracy'])"
   ]
  },
  {
   "cell_type": "code",
   "execution_count": 52,
   "metadata": {
    "colab": {
     "base_uri": "https://localhost:8080/",
     "height": 51
    },
    "colab_type": "code",
    "id": "dQlUfSx6YGiU",
    "outputId": "91702c26-5005-4faa-96b5-81533f4ac95d"
   },
   "outputs": [
    {
     "name": "stdout",
     "output_type": "stream",
     "text": [
      "313/313 [==============================] - 2s 6ms/step - loss: 0.7841 - accuracy: 0.7644\n"
     ]
    },
    {
     "data": {
      "text/plain": [
       "[0.7841242551803589, 0.7644000053405762]"
      ]
     },
     "execution_count": 52,
     "metadata": {
      "tags": []
     },
     "output_type": "execute_result"
    }
   ],
   "source": [
    "from sklearn.metrics import accuracy_score, precision_score, recall_score, f1_score\n",
    "\n",
    "base_model.evaluate(test_data,test_labels_cat)"
   ]
  },
  {
   "cell_type": "code",
   "execution_count": 48,
   "metadata": {
    "colab": {
     "base_uri": "https://localhost:8080/",
     "height": 283
    },
    "colab_type": "code",
    "id": "v97ES2gFhmRw",
    "outputId": "7a244326-6010-4c59-b6fd-68a68526ae10"
   },
   "outputs": [
    {
     "data": {
      "image/png": "[encoded data removed]",
      "text/plain": [
       "<Figure size 432x288 with 2 Axes>"
      ]
     },
     "metadata": {
      "needs_background": "light",
      "tags": []
     },
     "output_type": "display_data"
    }
   ],
   "source": [
    "#PLOTTING EPOCHS VS LOSS AND ACCURCY FOR BASE MODELS\n",
    "fig, (ax1, ax2) = plt.subplots(2, 1)\n",
    "ax1.plot(range(len(first_nn_fitted.history['loss'])), first_nn_fitted.history['loss'],linestyle='-', color='blue',label='Training', lw=2)\n",
    "ax1.plot(range(len(first_nn_fitted.history['val_loss'])), first_nn_fitted.history['val_loss'], linestyle='-', color='green',label='Test', lw=2)\n",
    "ax2.plot(range(len(first_nn_fitted.history['accuracy'])), first_nn_fitted.history['accuracy'],linestyle='-', color='blue',label='Training', lw=2)\n",
    "ax2.plot(range(len(first_nn_fitted.history['val_accuracy'])), first_nn_fitted.history['val_accuracy'], linestyle='-', color='green',label='Test', lw=2)\n",
    "leg = ax1.legend(bbox_to_anchor=(0.7, 0.9), loc=2, borderaxespad=0.,fontsize=13)\n",
    "ax1.set_xticklabels('')\n",
    "#ax1.set_yscale('log')\n",
    "ax2.set_xlabel('# Epochs',fontsize=14)\n",
    "ax1.set_ylabel('Loss',fontsize=14)\n",
    "ax2.set_ylabel('Accuracy',fontsize=14)\n",
    "plt.show()"
   ]
  },
  {
   "cell_type": "code",
   "execution_count": 49,
   "metadata": {
    "colab": {
     "base_uri": "https://localhost:8080/",
     "height": 283
    },
    "colab_type": "code",
    "id": "d23xhkyPhmPH",
    "outputId": "6e1f79e3-bd34-43b0-84ab-cf08c18cd8b7"
   },
   "outputs": [
    {
     "data": {
      "image/png": "[encoded data removed]",
      "text/plain": [
       "<Figure size 432x288 with 2 Axes>"
      ]
     },
     "metadata": {
      "needs_background": "light",
      "tags": []
     },
     "output_type": "display_data"
    }
   ],
   "source": [
    "#PLOTTING EPOCHS VS LOSS AND ACCURCY FOR NEURAL GRAPH MACHINES MODELS\n",
    "fig, (ax1, ax2) = plt.subplots(2, 1)\n",
    "ax1.plot(range(len(second_nn_fitted.history['loss'])), second_nn_fitted.history['loss'],linestyle='-', color='blue',label='Training', lw=2)\n",
    "ax1.plot(range(len(second_nn_fitted.history['val_loss'])), second_nn_fitted.history['val_loss'], linestyle='-', color='green',label='Test', lw=2)\n",
    "ax2.plot(range(len(second_nn_fitted.history['categorical_accuracy'])), second_nn_fitted.history['categorical_accuracy'],linestyle='-', color='blue',label='Training', lw=2)\n",
    "ax2.plot(range(len(second_nn_fitted.history['val_categorical_accuracy'])), second_nn_fitted.history['val_categorical_accuracy'], linestyle='-', color='green',label='Test', lw=2)\n",
    "leg = ax1.legend(bbox_to_anchor=(0.7, 0.9), loc=2, borderaxespad=0.,fontsize=13)\n",
    "ax1.set_xticklabels('')\n",
    "#ax1.set_yscale('log')\n",
    "ax2.set_xlabel('# Epochs',fontsize=14)\n",
    "ax1.set_ylabel('Loss',fontsize=14)\n",
    "ax2.set_ylabel('Accuracy',fontsize=14)\n",
    "plt.show()"
   ]
  },
  {
   "cell_type": "code",
   "execution_count": 0,
   "metadata": {
    "colab": {},
    "colab_type": "code",
    "id": "EFvVAVJae1QA"
   },
   "outputs": [],
   "source": []
  },
  {
   "cell_type": "code",
   "execution_count": 0,
   "metadata": {
    "colab": {},
    "colab_type": "code",
    "id": "HwthmfQ7fRpO"
   },
   "outputs": [],
   "source": []
  },
  {
   "cell_type": "code",
   "execution_count": 0,
   "metadata": {
    "colab": {},
    "colab_type": "code",
    "id": "2xqOdBm_Oy09"
   },
   "outputs": [],
   "source": []
  },
  {
   "cell_type": "code",
   "execution_count": 0,
   "metadata": {
    "colab": {},
    "colab_type": "code",
    "id": "5n8qPwsQVHGe"
   },
   "outputs": [],
   "source": []
  }
 ],
 "metadata": {
  "accelerator": "GPU",
  "colab": {
   "collapsed_sections": [],
   "name": "SML_Project_base.ipynb",
   "provenance": []
  },
  "kernelspec": {
   "display_name": "Python 3",
   "language": "python",
   "name": "python3"
  },
  "language_info": {
   "codemirror_mode": {
    "name": "ipython",
    "version": 3
   },
   "file_extension": ".py",
   "mimetype": "text/x-python",
   "name": "python",
   "nbconvert_exporter": "python",
   "pygments_lexer": "ipython3",
   "version": "3.7.3"
  }
 },
 "nbformat": 4,
 "nbformat_minor": 1
}
